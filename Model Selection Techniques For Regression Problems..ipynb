{
 "cells": [
  {
   "cell_type": "markdown",
   "id": "2dbce274-5c77-4d24-9fc5-f2f06f3e418a",
   "metadata": {},
   "source": [
    "#  Model selection technique\n",
    "> 1. Linear Regression.\n",
    "> 2. Ridge Regression.\n",
    "> 3. LASSO Regression.\n",
    "> 4. Elastic Net.\n",
    "> 5. Polynomial Regression.\n",
    "> 6. Robust Regression.\n",
    "\n"
   ]
  },
  {
   "cell_type": "markdown",
   "id": "5be56a0c-2d95-406c-8e66-f8d2930e3f08",
   "metadata": {},
   "source": [
    "# Polynomial Curve Fitting\n",
    "Curve fitting is the process of constructing a curve, or mathematical function, that has the best fit to a series of data points, possibly subject to constraints.\n",
    "\n",
    "A polynomial fit is an extension to the simple linear regression. Instead of fitting a straight line a polynomial curve is adjusted in a way that the sum of squares of the residuals becomes a minimum.\n",
    "\n",
    "The highest power of the polynomial equation determines the order of the polynomial. The higher the order of the polynomial the better the possible fit to the data (which does not necessarily mean that polynomials of higher order deliver better models). There is a basic rule as far as the required minimum number of data points is concerned: the minimum number of data points has to be one greater than the order of the polynomial. However, it is a good idea to use substantially more data points than this minimum requirement. As a rule of of thumb the number of data points should be at least twice the order of the polynomial. If the number of measured data points is too low (or the order of the polynomial is too high), the generalisation of the function becomes poor, resulting in unreliable estimated values.\n",
    "\n",
    "- The first degree polynomial equation:\n",
    "$$\n",
    "y=ax+b\n",
    "$$\n",
    "- If the order of the equation is increased to a second degree polynomial, the following results:\n",
    "$$\n",
    "y=ax^2+bx+c\n",
    "$$\n",
    "- If the order of the equation is increased to a third degree polynomial, the following is obtained:\n",
    "$$\n",
    "y=ax^3+bx^2+cx+d\n",
    "$$"
   ]
  },
  {
   "cell_type": "markdown",
   "id": "3dd1ce2e-a77b-4fcb-a6a1-9185a200b0b7",
   "metadata": {},
   "source": [
    "#  Data\n",
    "\n",
    "> We are going to use the `USA_Housing` dataset. Since house price is a continuous variable, this is a regression problem. The data contains the following columns:\n",
    "\n",
    "> * '`Avg. Area Income`': Avg. The income of residents of the city house is located in.\n",
    "> * '`Avg. Area House Age`': Avg Age of Houses in the same city\n",
    "> * '`Avg. Area Number of Rooms`': Avg Number of Rooms for Houses in the same city\n",
    "> * '`Avg. Area Number of Bedrooms`': Avg Number of Bedrooms for Houses in the same city\n",
    "> * '`Area Population`': The population of city house is located in\n",
    "> * '`Price`': Price that the house sold at\n",
    "> * '`Address`': Address for the house"
   ]
  },
  {
   "cell_type": "markdown",
   "id": "6aaaae90-3380-4b8e-8f40-5ff3f405889f",
   "metadata": {},
   "source": [
    "# Import Libraries"
   ]
  },
  {
   "cell_type": "code",
   "execution_count": 118,
   "id": "059f63f1-95c3-475b-a495-527e68ce54e1",
   "metadata": {},
   "outputs": [],
   "source": [
    "import pandas as pd\n",
    "import numpy as np\n",
    "import matplotlib.pyplot as plt\n",
    "import seaborn as sns\n",
    "import hvplot.pandas # You can install this library with the command:  pip install -q hvplot"
   ]
  },
  {
   "cell_type": "markdown",
   "id": "a56d7752-c769-4c56-8aaf-d8d96254e072",
   "metadata": {},
   "source": [
    "##  Create data frame"
   ]
  },
  {
   "cell_type": "code",
   "execution_count": 119,
   "id": "8d0d828b-4f4e-4e08-953a-0890d48888fa",
   "metadata": {},
   "outputs": [
    {
     "data": {
      "text/html": [
       "<div>\n",
       "<style scoped>\n",
       "    .dataframe tbody tr th:only-of-type {\n",
       "        vertical-align: middle;\n",
       "    }\n",
       "\n",
       "    .dataframe tbody tr th {\n",
       "        vertical-align: top;\n",
       "    }\n",
       "\n",
       "    .dataframe thead th {\n",
       "        text-align: right;\n",
       "    }\n",
       "</style>\n",
       "<table border=\"1\" class=\"dataframe\">\n",
       "  <thead>\n",
       "    <tr style=\"text-align: right;\">\n",
       "      <th></th>\n",
       "      <th>Avg. Area Income</th>\n",
       "      <th>Avg. Area House Age</th>\n",
       "      <th>Avg. Area Number of Rooms</th>\n",
       "      <th>Avg. Area Number of Bedrooms</th>\n",
       "      <th>Area Population</th>\n",
       "      <th>Price</th>\n",
       "      <th>Address</th>\n",
       "    </tr>\n",
       "  </thead>\n",
       "  <tbody>\n",
       "    <tr>\n",
       "      <th>0</th>\n",
       "      <td>79545.458574</td>\n",
       "      <td>5.682861</td>\n",
       "      <td>7.009188</td>\n",
       "      <td>4.09</td>\n",
       "      <td>23086.800503</td>\n",
       "      <td>1.059034e+06</td>\n",
       "      <td>208 Michael Ferry Apt. 674\\nLaurabury, NE 3701...</td>\n",
       "    </tr>\n",
       "    <tr>\n",
       "      <th>1</th>\n",
       "      <td>79248.642455</td>\n",
       "      <td>6.002900</td>\n",
       "      <td>6.730821</td>\n",
       "      <td>3.09</td>\n",
       "      <td>40173.072174</td>\n",
       "      <td>1.505891e+06</td>\n",
       "      <td>188 Johnson Views Suite 079\\nLake Kathleen, CA...</td>\n",
       "    </tr>\n",
       "    <tr>\n",
       "      <th>2</th>\n",
       "      <td>61287.067179</td>\n",
       "      <td>5.865890</td>\n",
       "      <td>8.512727</td>\n",
       "      <td>5.13</td>\n",
       "      <td>36882.159400</td>\n",
       "      <td>1.058988e+06</td>\n",
       "      <td>9127 Elizabeth Stravenue\\nDanieltown, WI 06482...</td>\n",
       "    </tr>\n",
       "    <tr>\n",
       "      <th>3</th>\n",
       "      <td>63345.240046</td>\n",
       "      <td>7.188236</td>\n",
       "      <td>5.586729</td>\n",
       "      <td>3.26</td>\n",
       "      <td>34310.242831</td>\n",
       "      <td>1.260617e+06</td>\n",
       "      <td>USS Barnett\\nFPO AP 44820</td>\n",
       "    </tr>\n",
       "    <tr>\n",
       "      <th>4</th>\n",
       "      <td>59982.197226</td>\n",
       "      <td>5.040555</td>\n",
       "      <td>7.839388</td>\n",
       "      <td>4.23</td>\n",
       "      <td>26354.109472</td>\n",
       "      <td>6.309435e+05</td>\n",
       "      <td>USNS Raymond\\nFPO AE 09386</td>\n",
       "    </tr>\n",
       "  </tbody>\n",
       "</table>\n",
       "</div>"
      ],
      "text/plain": [
       "   Avg. Area Income  Avg. Area House Age  Avg. Area Number of Rooms  \\\n",
       "0      79545.458574             5.682861                   7.009188   \n",
       "1      79248.642455             6.002900                   6.730821   \n",
       "2      61287.067179             5.865890                   8.512727   \n",
       "3      63345.240046             7.188236                   5.586729   \n",
       "4      59982.197226             5.040555                   7.839388   \n",
       "\n",
       "   Avg. Area Number of Bedrooms  Area Population         Price  \\\n",
       "0                          4.09     23086.800503  1.059034e+06   \n",
       "1                          3.09     40173.072174  1.505891e+06   \n",
       "2                          5.13     36882.159400  1.058988e+06   \n",
       "3                          3.26     34310.242831  1.260617e+06   \n",
       "4                          4.23     26354.109472  6.309435e+05   \n",
       "\n",
       "                                             Address  \n",
       "0  208 Michael Ferry Apt. 674\\nLaurabury, NE 3701...  \n",
       "1  188 Johnson Views Suite 079\\nLake Kathleen, CA...  \n",
       "2  9127 Elizabeth Stravenue\\nDanieltown, WI 06482...  \n",
       "3                          USS Barnett\\nFPO AP 44820  \n",
       "4                         USNS Raymond\\nFPO AE 09386  "
      ]
     },
     "execution_count": 119,
     "metadata": {},
     "output_type": "execute_result"
    }
   ],
   "source": [
    "USAhousing = pd.read_csv('../data/USA_Housing.csv')\n",
    "USAhousing.head()"
   ]
  },
  {
   "cell_type": "code",
   "execution_count": 120,
   "id": "d736f628-4a0b-4be8-9944-71078b726007",
   "metadata": {},
   "outputs": [
    {
     "name": "stdout",
     "output_type": "stream",
     "text": [
      "<class 'pandas.core.frame.DataFrame'>\n",
      "RangeIndex: 5000 entries, 0 to 4999\n",
      "Data columns (total 7 columns):\n",
      " #   Column                        Non-Null Count  Dtype  \n",
      "---  ------                        --------------  -----  \n",
      " 0   Avg. Area Income              5000 non-null   float64\n",
      " 1   Avg. Area House Age           5000 non-null   float64\n",
      " 2   Avg. Area Number of Rooms     5000 non-null   float64\n",
      " 3   Avg. Area Number of Bedrooms  5000 non-null   float64\n",
      " 4   Area Population               5000 non-null   float64\n",
      " 5   Price                         5000 non-null   float64\n",
      " 6   Address                       5000 non-null   object \n",
      "dtypes: float64(6), object(1)\n",
      "memory usage: 273.6+ KB\n"
     ]
    }
   ],
   "source": [
    "USAhousing.info()"
   ]
  },
  {
   "cell_type": "code",
   "execution_count": 121,
   "id": "140313b5-96d4-42d8-8b45-4a69fbf293fd",
   "metadata": {},
   "outputs": [
    {
     "data": {
      "text/html": [
       "<div>\n",
       "<style scoped>\n",
       "    .dataframe tbody tr th:only-of-type {\n",
       "        vertical-align: middle;\n",
       "    }\n",
       "\n",
       "    .dataframe tbody tr th {\n",
       "        vertical-align: top;\n",
       "    }\n",
       "\n",
       "    .dataframe thead th {\n",
       "        text-align: right;\n",
       "    }\n",
       "</style>\n",
       "<table border=\"1\" class=\"dataframe\">\n",
       "  <thead>\n",
       "    <tr style=\"text-align: right;\">\n",
       "      <th></th>\n",
       "      <th>Avg. Area Income</th>\n",
       "      <th>Avg. Area House Age</th>\n",
       "      <th>Avg. Area Number of Rooms</th>\n",
       "      <th>Avg. Area Number of Bedrooms</th>\n",
       "      <th>Area Population</th>\n",
       "      <th>Price</th>\n",
       "    </tr>\n",
       "  </thead>\n",
       "  <tbody>\n",
       "    <tr>\n",
       "      <th>count</th>\n",
       "      <td>5000.000000</td>\n",
       "      <td>5000.000000</td>\n",
       "      <td>5000.000000</td>\n",
       "      <td>5000.000000</td>\n",
       "      <td>5000.000000</td>\n",
       "      <td>5.000000e+03</td>\n",
       "    </tr>\n",
       "    <tr>\n",
       "      <th>mean</th>\n",
       "      <td>68583.108984</td>\n",
       "      <td>5.977222</td>\n",
       "      <td>6.987792</td>\n",
       "      <td>3.981330</td>\n",
       "      <td>36163.516039</td>\n",
       "      <td>1.232073e+06</td>\n",
       "    </tr>\n",
       "    <tr>\n",
       "      <th>std</th>\n",
       "      <td>10657.991214</td>\n",
       "      <td>0.991456</td>\n",
       "      <td>1.005833</td>\n",
       "      <td>1.234137</td>\n",
       "      <td>9925.650114</td>\n",
       "      <td>3.531176e+05</td>\n",
       "    </tr>\n",
       "    <tr>\n",
       "      <th>min</th>\n",
       "      <td>17796.631190</td>\n",
       "      <td>2.644304</td>\n",
       "      <td>3.236194</td>\n",
       "      <td>2.000000</td>\n",
       "      <td>172.610686</td>\n",
       "      <td>1.593866e+04</td>\n",
       "    </tr>\n",
       "    <tr>\n",
       "      <th>25%</th>\n",
       "      <td>61480.562388</td>\n",
       "      <td>5.322283</td>\n",
       "      <td>6.299250</td>\n",
       "      <td>3.140000</td>\n",
       "      <td>29403.928702</td>\n",
       "      <td>9.975771e+05</td>\n",
       "    </tr>\n",
       "    <tr>\n",
       "      <th>50%</th>\n",
       "      <td>68804.286404</td>\n",
       "      <td>5.970429</td>\n",
       "      <td>7.002902</td>\n",
       "      <td>4.050000</td>\n",
       "      <td>36199.406689</td>\n",
       "      <td>1.232669e+06</td>\n",
       "    </tr>\n",
       "    <tr>\n",
       "      <th>75%</th>\n",
       "      <td>75783.338666</td>\n",
       "      <td>6.650808</td>\n",
       "      <td>7.665871</td>\n",
       "      <td>4.490000</td>\n",
       "      <td>42861.290769</td>\n",
       "      <td>1.471210e+06</td>\n",
       "    </tr>\n",
       "    <tr>\n",
       "      <th>max</th>\n",
       "      <td>107701.748378</td>\n",
       "      <td>9.519088</td>\n",
       "      <td>10.759588</td>\n",
       "      <td>6.500000</td>\n",
       "      <td>69621.713378</td>\n",
       "      <td>2.469066e+06</td>\n",
       "    </tr>\n",
       "  </tbody>\n",
       "</table>\n",
       "</div>"
      ],
      "text/plain": [
       "       Avg. Area Income  Avg. Area House Age  Avg. Area Number of Rooms  \\\n",
       "count       5000.000000          5000.000000                5000.000000   \n",
       "mean       68583.108984             5.977222                   6.987792   \n",
       "std        10657.991214             0.991456                   1.005833   \n",
       "min        17796.631190             2.644304                   3.236194   \n",
       "25%        61480.562388             5.322283                   6.299250   \n",
       "50%        68804.286404             5.970429                   7.002902   \n",
       "75%        75783.338666             6.650808                   7.665871   \n",
       "max       107701.748378             9.519088                  10.759588   \n",
       "\n",
       "       Avg. Area Number of Bedrooms  Area Population         Price  \n",
       "count                   5000.000000      5000.000000  5.000000e+03  \n",
       "mean                       3.981330     36163.516039  1.232073e+06  \n",
       "std                        1.234137      9925.650114  3.531176e+05  \n",
       "min                        2.000000       172.610686  1.593866e+04  \n",
       "25%                        3.140000     29403.928702  9.975771e+05  \n",
       "50%                        4.050000     36199.406689  1.232669e+06  \n",
       "75%                        4.490000     42861.290769  1.471210e+06  \n",
       "max                        6.500000     69621.713378  2.469066e+06  "
      ]
     },
     "execution_count": 121,
     "metadata": {},
     "output_type": "execute_result"
    }
   ],
   "source": [
    "USAhousing.describe()"
   ]
  },
  {
   "cell_type": "markdown",
   "id": "f7d8eca5-f351-490f-8bb2-cbe6bc299830",
   "metadata": {},
   "source": [
    "#  Exploratory data analysis"
   ]
  },
  {
   "cell_type": "markdown",
   "id": "51435d83-dce7-4f37-8871-59eb90c90a7a",
   "metadata": {},
   "source": [
    "##### Please conduct exploratory data analysis using some of the following tools:"
   ]
  },
  {
   "cell_type": "markdown",
   "id": "d34a06b0-7f13-43f7-8783-27f8c876d2f7",
   "metadata": {},
   "source": [
    "> * sns.pairplot()\n",
    "> * hvplot.hist()\n",
    "> * hvplot.scatter()\n",
    "> * Correlation analysis & sns.heatmap()\n"
   ]
  },
  {
   "cell_type": "markdown",
   "id": "7e9fd617-166d-4053-aa6b-a5f7dc38b39a",
   "metadata": {},
   "source": [
    "# Prepare data for regression analysis"
   ]
  },
  {
   "cell_type": "code",
   "execution_count": 122,
   "id": "ea50d62a-5bf1-4e4b-aa7d-c4ebc2e5aa53",
   "metadata": {},
   "outputs": [],
   "source": [
    "X = USAhousing[['Avg. Area Income', 'Avg. Area House Age', 'Avg. Area Number of Rooms',\n",
    "               'Avg. Area Number of Bedrooms', 'Area Population']] # regressors\n",
    "y = USAhousing['Price'] # dependent variable"
   ]
  },
  {
   "cell_type": "markdown",
   "id": "cf940ce5-9ded-4a4b-a563-3265c4a778a3",
   "metadata": {},
   "source": [
    "##  Comput training and testings set\n"
   ]
  },
  {
   "cell_type": "code",
   "execution_count": 123,
   "id": "28cca134-8e46-4082-8fee-77f64d1a03fa",
   "metadata": {},
   "outputs": [],
   "source": [
    "from sklearn.model_selection import train_test_split\n",
    "\n",
    "X_train, X_test, y_train, y_test = train_test_split(X, y, test_size=0.3, random_state=42)"
   ]
  },
  {
   "cell_type": "code",
   "execution_count": 124,
   "id": "a35cc55a-d25a-4ed5-ae49-f5e98b313a00",
   "metadata": {},
   "outputs": [],
   "source": [
    "from sklearn import metrics\n",
    "from sklearn.model_selection import cross_val_score\n",
    "\n",
    "def cross_val(model):\n",
    "    pred = cross_val_score(model, X, y, cv=10)\n",
    "    return pred.mean()\n",
    "\n",
    "def print_evaluate(true, predicted):  \n",
    "    mae = metrics.mean_absolute_error(true, predicted)\n",
    "    mse = metrics.mean_squared_error(true, predicted)\n",
    "    rmse = np.sqrt(metrics.mean_squared_error(true, predicted))\n",
    "    r2_square = metrics.r2_score(true, predicted)\n",
    "    print('MAE:', mae)\n",
    "    print('MSE:', mse)\n",
    "    print('RMSE:', rmse)\n",
    "    print('R2 Square', r2_square)\n",
    "    print('__________________________________')\n",
    "  \n",
    "# Function for evaluating the regression algorithm performance\n",
    "def evaluate(true, predicted):\n",
    "    mae = metrics.mean_absolute_error(true, predicted)\n",
    "    mse = metrics.mean_squared_error(true, predicted)\n",
    "    rmse = np.sqrt(metrics.mean_squared_error(true, predicted))\n",
    "    r2_square = metrics.r2_score(true, predicted)\n",
    "    return mae, mse, rmse, r2_square"
   ]
  },
  {
   "cell_type": "markdown",
   "id": "8e21506b-7d76-4766-871d-b2947274aa53",
   "metadata": {},
   "source": [
    "#  Preparing Data For Linear Regression\n",
    "> Linear regression is been studied at great length, and there is a lot of literature on how your data must be structured to make the best use of the model.\n",
    "\n",
    "> As such, there is a lot of sophistication when talking about these requirements and expectations which can be intimidating. In practice, you can use these rules more as rules of thumb when using Ordinary Least Squares Regression, the most common implementation of linear regression.\n",
    "\n",
    "> Try different preparations of your data using these heuristics and see what works best for your problem.\n",
    "- **Linear Assumption.** Linear regression assumes that the relationship between your input and output is linear. It does not support anything else. This may be obvious, but it is good to remember when you have a lot of attributes. You may need to transform data to make the relationship linear (e.g. log transform for an exponential relationship).\n",
    "- **Remove Noise.** Linear regression assumes that your input and output variables are not noisy. Consider using data cleaning operations that let you better expose and clarify the signal in your data. This is most important for the output variable and you want to remove outliers in the output variable (y) if possible.\n",
    "- **Remove Collinearity.** Linear regression will over-fit your data when you have highly correlated input variables. Consider calculating pairwise correlations for your input data and removing the most correlated.\n",
    "- **Gaussian Distributions.** Linear regression will make more reliable predictions if your input and output variables have a Gaussian distribution. You may get some benefit using transforms (e.g. log or BoxCox) on your variables to make their distribution more Gaussian looking.\n",
    "- **Rescale Inputs:** Linear regression will often make more reliable predictions if you rescale input variables using standardization or normalization."
   ]
  },
  {
   "cell_type": "code",
   "execution_count": 125,
   "id": "057021ff-9962-4995-bf22-9954e11dd7ab",
   "metadata": {},
   "outputs": [],
   "source": [
    "from sklearn.preprocessing import StandardScaler\n",
    "from sklearn.pipeline import Pipeline\n",
    "\n",
    "pipeline = Pipeline([\n",
    "    ('std_scalar', StandardScaler())\n",
    "])\n",
    "\n",
    "X_train = pipeline.fit_transform(X_train)\n",
    "X_test = pipeline.transform(X_test)"
   ]
  },
  {
   "cell_type": "markdown",
   "id": "419bf0b7-4d67-42bc-a715-6abe8822fa1e",
   "metadata": {},
   "source": [
    "## 1. Linear regression"
   ]
  },
  {
   "cell_type": "code",
   "execution_count": 126,
   "id": "e5cf929c-0bf1-491f-853a-64b469fd5630",
   "metadata": {},
   "outputs": [
    {
     "data": {
      "text/plain": [
       "LinearRegression()"
      ]
     },
     "execution_count": 126,
     "metadata": {},
     "output_type": "execute_result"
    }
   ],
   "source": [
    "from sklearn.linear_model import LinearRegression\n",
    "\n",
    "lin_reg = LinearRegression()\n",
    "lin_reg.fit(X_train,y_train)"
   ]
  },
  {
   "cell_type": "markdown",
   "id": "89364ae4-2c40-4a5b-b111-0ff1abfb0c07",
   "metadata": {},
   "source": [
    "### Model evaluation"
   ]
  },
  {
   "cell_type": "code",
   "execution_count": 127,
   "id": "3d8900c9-92e1-42af-ba53-45e5df0341e0",
   "metadata": {},
   "outputs": [
    {
     "data": {
      "text/html": [
       "<div>\n",
       "<style scoped>\n",
       "    .dataframe tbody tr th:only-of-type {\n",
       "        vertical-align: middle;\n",
       "    }\n",
       "\n",
       "    .dataframe tbody tr th {\n",
       "        vertical-align: top;\n",
       "    }\n",
       "\n",
       "    .dataframe thead th {\n",
       "        text-align: right;\n",
       "    }\n",
       "</style>\n",
       "<table border=\"1\" class=\"dataframe\">\n",
       "  <thead>\n",
       "    <tr style=\"text-align: right;\">\n",
       "      <th></th>\n",
       "      <th>Coefficient</th>\n",
       "    </tr>\n",
       "  </thead>\n",
       "  <tbody>\n",
       "    <tr>\n",
       "      <th>Avg. Area Income</th>\n",
       "      <td>232679.724643</td>\n",
       "    </tr>\n",
       "    <tr>\n",
       "      <th>Avg. Area House Age</th>\n",
       "      <td>163841.046593</td>\n",
       "    </tr>\n",
       "    <tr>\n",
       "      <th>Avg. Area Number of Rooms</th>\n",
       "      <td>121110.555478</td>\n",
       "    </tr>\n",
       "    <tr>\n",
       "      <th>Avg. Area Number of Bedrooms</th>\n",
       "      <td>2892.815119</td>\n",
       "    </tr>\n",
       "    <tr>\n",
       "      <th>Area Population</th>\n",
       "      <td>151252.342377</td>\n",
       "    </tr>\n",
       "  </tbody>\n",
       "</table>\n",
       "</div>"
      ],
      "text/plain": [
       "                                Coefficient\n",
       "Avg. Area Income              232679.724643\n",
       "Avg. Area House Age           163841.046593\n",
       "Avg. Area Number of Rooms     121110.555478\n",
       "Avg. Area Number of Bedrooms    2892.815119\n",
       "Area Population               151252.342377"
      ]
     },
     "execution_count": 127,
     "metadata": {},
     "output_type": "execute_result"
    }
   ],
   "source": [
    "coeff_df = pd.DataFrame(lin_reg.coef_, X.columns, columns=['Coefficient'])\n",
    "coeff_df"
   ]
  },
  {
   "cell_type": "markdown",
   "id": "6cc4462e-ce4e-44a4-8251-86d41eec8c2f",
   "metadata": {},
   "source": [
    "> Interpreting the coefficients:\n",
    ">- Holding all other features fixed, a 1 unit increase in **Avg. Area Income** is associated with an **increase of \\$21.52**.\n",
    ">- Holding all other features fixed, a 1 unit increase in **Avg. Area House Age** is associated with an **increase of \\$164883.28**.\n",
    ">- Holding all other features fixed, a 1 unit increase in **Avg. Area Number of Rooms** is associated with an **increase of \\$122368.67**.\n",
    ">- Holding all other features fixed, a 1 unit increase in **Avg. Area Number of Bedrooms** is associated with an **increase of \\$2233.80**.\n",
    ">- Holding all other features fixed, a 1 unit increase in **Area Population** is associated with an **increase of \\$15.15**.\n",
    "\n",
    "Does this make sense? Probably not because I made up this data."
   ]
  },
  {
   "cell_type": "markdown",
   "id": "89accb4f-8b8f-4946-9adb-700ee20d8a72",
   "metadata": {},
   "source": [
    "## ✔️ Model predictions\n",
    "\n",
    "Let's grab predictions off our test set and see how well it did!"
   ]
  },
  {
   "cell_type": "code",
   "execution_count": 128,
   "id": "42864d9f-11ad-43dd-a2ca-cb814d96b5a8",
   "metadata": {},
   "outputs": [],
   "source": [
    "pred = lin_reg.predict(X_test)"
   ]
  },
  {
   "cell_type": "code",
   "execution_count": 129,
   "id": "f4b4fb91-6a66-4e98-987d-f18015c108da",
   "metadata": {},
   "outputs": [
    {
     "data": {},
     "metadata": {},
     "output_type": "display_data"
    },
    {
     "data": {
      "application/vnd.holoviews_exec.v0+json": "",
      "text/html": [
       "<div id='2370'>\n",
       "  <div class=\"bk-root\" id=\"22744957-659f-4c10-a69a-021662d6b145\" data-root-id=\"2370\"></div>\n",
       "</div>\n",
       "<script type=\"application/javascript\">(function(root) {\n",
       "  function embed_document(root) {\n",
       "    var docs_json = {\"08844aac-a8bd-409a-90b8-a59b937a288b\":{\"defs\":[{\"extends\":null,\"module\":null,\"name\":\"ReactiveHTML1\",\"overrides\":[],\"properties\":[]},{\"extends\":null,\"module\":null,\"name\":\"FlexBox1\",\"overrides\":[],\"properties\":[{\"default\":\"flex-start\",\"kind\":null,\"name\":\"align_content\"},{\"default\":\"flex-start\",\"kind\":null,\"name\":\"align_items\"},{\"default\":\"row\",\"kind\":null,\"name\":\"flex_direction\"},{\"default\":\"wrap\",\"kind\":null,\"name\":\"flex_wrap\"},{\"default\":\"flex-start\",\"kind\":null,\"name\":\"justify_content\"}]},{\"extends\":null,\"module\":null,\"name\":\"GridStack1\",\"overrides\":[],\"properties\":[{\"default\":\"warn\",\"kind\":null,\"name\":\"mode\"},{\"default\":null,\"kind\":null,\"name\":\"ncols\"},{\"default\":null,\"kind\":null,\"name\":\"nrows\"},{\"default\":true,\"kind\":null,\"name\":\"allow_resize\"},{\"default\":true,\"kind\":null,\"name\":\"allow_drag\"},{\"default\":[],\"kind\":null,\"name\":\"state\"}]},{\"extends\":null,\"module\":null,\"name\":\"click1\",\"overrides\":[],\"properties\":[{\"default\":\"\",\"kind\":null,\"name\":\"terminal_output\"},{\"default\":\"\",\"kind\":null,\"name\":\"debug_name\"},{\"default\":0,\"kind\":null,\"name\":\"clears\"}]},{\"extends\":null,\"module\":null,\"name\":\"NotificationAreaBase1\",\"overrides\":[],\"properties\":[{\"default\":\"bottom-right\",\"kind\":null,\"name\":\"position\"},{\"default\":0,\"kind\":null,\"name\":\"_clear\"}]},{\"extends\":null,\"module\":null,\"name\":\"NotificationArea1\",\"overrides\":[],\"properties\":[{\"default\":[],\"kind\":null,\"name\":\"notifications\"},{\"default\":\"bottom-right\",\"kind\":null,\"name\":\"position\"},{\"default\":0,\"kind\":null,\"name\":\"_clear\"},{\"default\":[{\"background\":\"#ffc107\",\"icon\":{\"className\":\"fas fa-exclamation-triangle\",\"color\":\"white\",\"tagName\":\"i\"},\"type\":\"warning\"},{\"background\":\"#007bff\",\"icon\":{\"className\":\"fas fa-info-circle\",\"color\":\"white\",\"tagName\":\"i\"},\"type\":\"info\"}],\"kind\":null,\"name\":\"types\"}]},{\"extends\":null,\"module\":null,\"name\":\"Notification\",\"overrides\":[],\"properties\":[{\"default\":null,\"kind\":null,\"name\":\"background\"},{\"default\":3000,\"kind\":null,\"name\":\"duration\"},{\"default\":null,\"kind\":null,\"name\":\"icon\"},{\"default\":\"\",\"kind\":null,\"name\":\"message\"},{\"default\":null,\"kind\":null,\"name\":\"notification_type\"},{\"default\":false,\"kind\":null,\"name\":\"_destroyed\"}]},{\"extends\":null,\"module\":null,\"name\":\"TemplateActions1\",\"overrides\":[],\"properties\":[{\"default\":0,\"kind\":null,\"name\":\"open_modal\"},{\"default\":0,\"kind\":null,\"name\":\"close_modal\"}]},{\"extends\":null,\"module\":null,\"name\":\"MaterialTemplateActions1\",\"overrides\":[],\"properties\":[{\"default\":0,\"kind\":null,\"name\":\"open_modal\"},{\"default\":0,\"kind\":null,\"name\":\"close_modal\"}]}],\"roots\":{\"references\":[{\"attributes\":{\"axis_label\":\"True Values\",\"coordinates\":null,\"formatter\":{\"id\":\"2414\"},\"group\":null,\"major_label_policy\":{\"id\":\"2415\"},\"ticker\":{\"id\":\"2384\"}},\"id\":\"2383\",\"type\":\"LinearAxis\"},{\"attributes\":{\"coordinates\":null,\"group\":null,\"text_color\":\"black\",\"text_font_size\":\"12pt\"},\"id\":\"2375\",\"type\":\"Title\"},{\"attributes\":{},\"id\":\"2405\",\"type\":\"Selection\"},{\"attributes\":{},\"id\":\"2384\",\"type\":\"BasicTicker\"},{\"attributes\":{\"fill_alpha\":{\"value\":0.1},\"fill_color\":{\"value\":\"#30a2da\"},\"hatch_alpha\":{\"value\":0.1},\"hatch_color\":{\"value\":\"#30a2da\"},\"line_alpha\":{\"value\":0.1},\"line_color\":{\"value\":\"#30a2da\"},\"size\":{\"value\":5.477225575051661},\"x\":{\"field\":\"True Values\"},\"y\":{\"field\":\"Predicted Values\"}},\"id\":\"2408\",\"type\":\"Scatter\"},{\"attributes\":{},\"id\":\"2414\",\"type\":\"BasicTickFormatter\"},{\"attributes\":{},\"id\":\"2379\",\"type\":\"LinearScale\"},{\"attributes\":{\"active_drag\":{\"id\":\"2392\"},\"active_scroll\":{\"id\":\"2393\"},\"tools\":[{\"id\":\"2373\"},{\"id\":\"2391\"},{\"id\":\"2392\"},{\"id\":\"2393\"},{\"id\":\"2394\"},{\"id\":\"2395\"}]},\"id\":\"2397\",\"type\":\"Toolbar\"},{\"attributes\":{},\"id\":\"2392\",\"type\":\"PanTool\"},{\"attributes\":{\"axis\":{\"id\":\"2383\"},\"coordinates\":null,\"grid_line_color\":null,\"group\":null,\"ticker\":null},\"id\":\"2386\",\"type\":\"Grid\"},{\"attributes\":{},\"id\":\"2415\",\"type\":\"AllLabels\"},{\"attributes\":{\"axis_label\":\"Predicted Values\",\"coordinates\":null,\"formatter\":{\"id\":\"2417\"},\"group\":null,\"major_label_policy\":{\"id\":\"2418\"},\"ticker\":{\"id\":\"2388\"}},\"id\":\"2387\",\"type\":\"LinearAxis\"},{\"attributes\":{\"axis\":{\"id\":\"2387\"},\"coordinates\":null,\"dimension\":1,\"grid_line_color\":null,\"group\":null,\"ticker\":null},\"id\":\"2390\",\"type\":\"Grid\"},{\"attributes\":{\"children\":[{\"id\":\"2374\"}],\"height\":300,\"margin\":[0,0,0,0],\"name\":\"Row02450\",\"sizing_mode\":\"fixed\",\"tags\":[\"embedded\"],\"width\":700},\"id\":\"2370\",\"type\":\"Row\"},{\"attributes\":{},\"id\":\"2417\",\"type\":\"BasicTickFormatter\"},{\"attributes\":{},\"id\":\"2388\",\"type\":\"BasicTicker\"},{\"attributes\":{},\"id\":\"2393\",\"type\":\"WheelZoomTool\"},{\"attributes\":{},\"id\":\"2418\",\"type\":\"AllLabels\"},{\"attributes\":{\"angle\":{\"value\":0.0},\"fill_alpha\":{\"value\":1.0},\"fill_color\":{\"value\":\"#30a2da\"},\"hatch_alpha\":{\"value\":1.0},\"hatch_color\":{\"value\":\"#30a2da\"},\"hatch_scale\":{\"value\":12.0},\"hatch_weight\":{\"value\":1.0},\"line_alpha\":{\"value\":1.0},\"line_cap\":{\"value\":\"butt\"},\"line_color\":{\"value\":\"#30a2da\"},\"line_dash\":{\"value\":[]},\"line_dash_offset\":{\"value\":0},\"line_join\":{\"value\":\"bevel\"},\"line_width\":{\"value\":1},\"marker\":{\"value\":\"circle\"},\"size\":{\"value\":5.477225575051661},\"x\":{\"field\":\"True Values\"},\"y\":{\"field\":\"Predicted Values\"}},\"id\":\"2412\",\"type\":\"Scatter\"},{\"attributes\":{},\"id\":\"2391\",\"type\":\"SaveTool\"},{\"attributes\":{\"overlay\":{\"id\":\"2396\"}},\"id\":\"2394\",\"type\":\"BoxZoomTool\"},{\"attributes\":{\"coordinates\":null,\"data_source\":{\"id\":\"2404\"},\"glyph\":{\"id\":\"2407\"},\"group\":null,\"hover_glyph\":null,\"muted_glyph\":{\"id\":\"2409\"},\"nonselection_glyph\":{\"id\":\"2408\"},\"selection_glyph\":{\"id\":\"2412\"},\"view\":{\"id\":\"2411\"}},\"id\":\"2410\",\"type\":\"GlyphRenderer\"},{\"attributes\":{},\"id\":\"2395\",\"type\":\"ResetTool\"},{\"attributes\":{\"data\":{\"Predicted Values\":{\"__ndarray__\":\"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\",\"dtype\":\"float64\",\"order\":\"little\",\"shape\":[1500]},\"Predicted_Values\":{\"__ndarray__\":\"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\",\"dtype\":\"float64\",\"order\":\"little\",\"shape\":[1500]},\"True Values\":{\"__ndarray__\":\"Q1bGE9huNEGyQMgt0hkzQQU9Wfe+cjRBovmYn9PXNUFcUlYMi88vQckSAIB4uzdBU5ewSkIWM0H32OhxKbgvQbydxmC2ZylBlxXnR2itNUHMz9ukOLsiQWyo9wkG+jlBTqDkMWbhK0F5YW9FJZE5Qb9m0vy4hDNBbTYD0mj7LEHqjERKQvM0Qd0dUeeThjFBAJyJ27bYKUEbKwUqoZUuQfNratV9XDBBP1v6jBuzLUFQwGgwqXs3QdEOZVjnUTFBWSNwIyGzOEHB5nbUVq4xQUEjrBrFWjNBUGUgkysVLkEfQI1yyKUlQVGMYxsBhjxBIv8Bh7WGNkGlgP9kef84QaXiUYNu1zVBwC6Yw+kgM0EaerYe3OA2QapFg81YcDtBtDMVKFv9NkEXEKOJLcgkQfcqritsojpBYI74OYWnM0Fv/Pf2ikE3QVoj+neKsSxBPnaPwjkQOEF26sAhezQqQWfQaboLuzFB3wKFPsCcM0FzJz8fxRI2Qax3PdPT4jVBSwc9Hml3N0G3sdy0X8czQcYaAfTT5DVB+hNRjRWDNkExRTp4/to1QflmBdGIZjBBuvcvgEU9OEF9ovI4eK08QSRICy0ZDjBBJLT+OMaDMkFyNPyFIagyQQvInn/3ozdB2Vd+rxV2KkHNr/RybLgjQYSI7AHzMjdBBUGQ7x3xLEEk92ijf7QmQSYuXcz5BjlBIInbOdzmM0EZeXHMhZkuQba6DIcLnDlB3klezZXfNUEL2j3U3SYsQWd/1u6+wTlB/6H/SmY5NkFtd5CM7wkuQao5QLD/6SFBhNNehzdmNkGybCQWjrwwQXLYMcm26TBBGH6OhVoANkEGcQsFL2QkQebsw8uHVTlBftiwBlkDNUEuE290CD8pQX5l6h+YHB5Bh/95MITGNkGLh2t5WcIiQajtGLDMOCRBwRjWaK8/MUGjAtzKFmI0QecdnnT1PjRBrD/gbn/TM0E2VDckFQQ0QdcvGgTXbCZBEVumDdHcMEE10ZfQo+kyQUYo7GIBGShBptWa6p04MEHtApmdygstQTTCTODpszZBC9LwfivENkEaUrXPA4ogQTpb2CvSszFB7G66w056M0H37IIhk5g9QarqDcxk1kJBwmbHw0WrKUEYUKbBiRoyQZ4EEijXBitByB/cht4IPUFFZuudkx44Qbx05s1tjzhBH4wO1TD/MUF2fsRKHj47QYRahy7YIDBBYw1jt1CyLUH3bM0Kdzc3QRZ09b/GQSZBsZ/QF6KONEF4tR8m+h8zQZkKtPjcCjZBn85xIaYuOUFbLgVWy9k3QTcM9GAerDdB3eMcJYEENkHPFE/RY0o7QatbUDJ0aTNByXyTckFHI0EjSlpQ5HArQaJTuZG5FzRBDdVg0IcFOEFWzRT8/oY1QWF4Qb5pRzJBwko4rhaMOEFcbQ5waVo0Qc7SogprQjNBILYrbR6PN0FQ3y4rQok5QeURkU2XgzVBpxiSQc7SKEE8cYBM0j8yQeRRf+/uuz1BV40F5omPL0GOLehNCyM8Qba/voOw6zBBaSTlFmonPkECtcJZFLIrQQ5zMINB6C5BCBCEppNqMkFCIAIoPFM1QQBw8ABY0TZBoOb0UVo9LkG4NR2MO8EtQVri8eL9yzFBCdJ2/tqDNUFVX/oUVh01QSWCzxArYShBHG68Ryt4OEHdzY1DjCMsQcJIh50+/T5Bq28EI0XFMkENLo4n2zk0QUA30x8dbzNBn5/KZtlbLUEHQySGKFw+QQFQi/oFnzVBj5SuNm36JkGjP8807TotQR6BKNx+CDpBRSq9sN5BKkGLh4JOLZg+QRnFiR3B6zxBPzzaL6hWJ0F+KdVEEaI8QeM0IEfSbjNBpuQ/xVBhOEExyLn96yw6QfrOq/Uj0jhB2PsZik8kIUHUND7ZSLwlQdUiF+KfSx5BGzjuyLBZKkGJSFfP1SYwQfONcZbw9itBAx5tPxjaMUHv7Y6vt6ErQYREy8yR3BdB/X2nbf/zMkGwQEZ/MH0wQX12IANNFzhBKK3ulzAoNEEA9QumVLAzQcMDpc+S/zRBZIu4RCqpM0GlnHnpkZQxQZN/+RmxtjVBTE0ZGT/rPkEhb6QR1c40QS5DC7eKIDZBi+SxD7PkNUHNDPVcn6AkQevIzUaJ2jJB8XcZqVmpNkGNZpy8rm4zQR5t8hP0ry9Bc2Ajgo/8L0F0r3h1BpYzQT++BIJXGTxBJH7uUKhYJkHTowlhSqgqQZIzXhVR+zRBV5NaYLFZMEF95ew7G8YyQQtku9PjHDVBo2Dj53U5L0EdRZaQyvUmQTjifmvmzjtBoC/KOdY8L0FiZ8FDQk4gQaq7D2mjpzRByZ2cJLSlMEG167eezTUzQWzTZI+XpzBBx/kX5Y0yJkGfaE+TSFoxQY3MBjzTmTZBPY/Cs/W3IkHA2TGk3zk3QTaU8HPH9jVBJebSzpVoO0F4XfQtvgc6QcEv5iMtBTNB9KPOB/ZfMkHwc3QHeYktQYLdMo79kC9BXkwJLZJLOEGYvjsMgXY4QcCU0RfnojdBP3/OlzVyMEGpvQw6IMkiQX4RnXbEvjhBZw5HqSthPEFRXKQcLAA0Qf1wq37xjzVBoL9Li1PiOUHxdcSmVto9QQl8yHMbFCJBqimeKfJ4MkF+NhkUehIzQQOCcjo7Ci5B0LJErokZF0EVMMA9sFM1QdV/MN3LTjlBsKwfY5OzNEGN9H3IVWQzQeN037NRqz5BcOYs2kFCJ0ERnWicBrg8QW5Jtm0RhCxBkBqxhqdOO0EiZfyyCSQ6QSMwZThvmDFBl6H9ujZkI0GdnfMjzZY5QSzxW24FpyRBxQtzZemtQEEqq6JJde4lQUqtJU4+iDxB/DFMQCMfMUFJZsDVXvAyQRegnvfHoTRBlmjHmt3mOUE5FmIcc1sxQfdntGHwJC9Bp3kVMvzSL0Geuhn0C4IyQQaWoZIbJClBgiq4rJE9NEEJIHw6HOwvQW/nq8JlJhlBFKSLzw77MkErNV8B3DotQSsAJDixLjVBRMvZRFXvL0GJT8CGLYAyQacWrF3o7zpB43DKhNSmN0EFcXBiY0IyQfMClaqzeCdB9sbEsiljKEFZc2BkMLkzQW69BJ2AgTdBJ0Rf/lPIM0FpWuwxV2k3Qeaus56a8i5BH7OCzPChQEG1wZKJxp81QaaPNW4rCTJBSEghILNEL0HzzvewDDEjQcmNLsI6TTpBXRDo0yYEM0F8pZ+Vbls1QaQx11bKOTFBfxVRZs90L0FmMeE7OLY3QWg21Y9vxDRB0WV2anfKNkH+mYCLGWIzQbRe6D3ATThBIiSCLjsHK0GInAlnGGUwQeHn4C/0cDRBobiv9q/SOUF9pUbhon82QTsc5UeY9TZBdoakaEBXMUFOsokS43QyQfWuKwvM1zpBlPWzAl4hNUFpyB3OhCcjQYE7xUyMSDZBzjz7LhUFM0EvCjzpEkY0QfGHX+JvbTFBZeJ1lhgKNEGShK4o/b4sQSslQbfu8CdByFrDvb66NEFN+iQTVw01QbMMdDE7qyRBpHXnTOusMEFZbsQc7FkwQSd9AUVO0S5Bf+9iZQOwIUE2N0cyQxwzQQeMTQZC+ClBRvOo22ioMkFHx4b1qKsvQfQAMBWEIS9BJN8VMsRUNUGDHOfUrA82QU+YsXRySztBdWq5qAlJN0G9Dt948U40QdDSp/jxyTNBIeytSpBOMkEqoPoY7tAwQbUJvP66RzdBxrM59O8fM0EkGNZPu6A1Qb+ShldMijNB1Lw7+dIGNEH9O+u2gK86QalWMsZ2JjlBRCN3KfxELUHjXKge7IU0QaKpgJYZrzRBCKwWfMA9N0FTqOJpTSg0QUEZcgUixTdBuCD99yV7NEG960yxUKUIQWvX+RaWZC9B7DxS6AGbPUHZRwPhnXYxQTiZJ2+GXyhBnxregTwtMUFy4SZjoug0QYFKJlNO7TNBV9IqUD9gLUHApWt+AeY5QeCfScpR/z9BjiKHc9kKK0Ham9S3NjM1QQ4eJml3wjNBrjHMhP2RMkGoSHupvE8yQTpR5XU/GSlBQcHxKGrANEE9j8GYNT8xQXCYWJhfaClBstx1xS/ZE0GH4DAFeJEyQV/lPZLCtTRBPAXxkKE3NUEZA1x+VBU0QUm64qFx1DVBLwth4RdHL0HaIpvWoOEwQTYpJe28QTNBJsGSw0/CCUHFJgxXvow7QXQbS/XGFzJB22HHhxjENEEYtpXHDYMuQfjkrZkMGDBBCbe2WQaXIUGqElGb97MpQf/R0ILxti1BeSHTSSr6OEFqf0nkrE0ZQaBBBy/hiDJB3JsxulF8J0GAUC+ODUQxQVRi+QygoTRBSzG/FZgIM0He8KEPFoUpQfzf80CrBCpBELvYzHWANEG5qv7ioQc6QW1lQ85AIjJBwVNskmfAH0FOuxlQ29U2QbwY4uKsQDJBmBSAsWOjNEEQl1vqmJAxQSWsI+FzszVB0rsvyWEtMEEq5lLWeqw0QQEdpVIzpCRBSIVqW0cJMUF+8nzOnTI2QQZBBlPvEC1BQsM1l1FWNUHFyi/nUPs3QfX+8ixeNTRB1YFU/PZnOEGdCQfyoesjQRT5hrp5nzZBAJ1tSZ5DM0EXZ2m2BjMxQX/OTECRGDZBfmEQ2cUkLkHLl2ig7UktQfPwxDC8RTRB1m+cX/waMEElKxyLAP8wQRl/tgfRwDZBGSNGGKhKK0G8GGj/RuA0QaVG25Bafi9BPgkjgaCvNUELolkHRwYzQVDNw6GPazNBi+Xs8VLGNUHovK7q7+w2QdXEeOBeQTpBFuf2UNh2MEE/hPECxt8lQXeJlihdwTNBawo2slygMkEqghADKyI3QVL6V7pJJjlBjwrQs2cUKEEvZ7WmFQ05Qb1BY/6nTC1BnFGvfpGLJkFXWeot5nU4QaYPEtfBVTdBSatwRB4WMkFpBVmf3MI6QYdt/7IsDjRBjGAeTyEVNEGyNHONHgw4QR4gO/lNoy1BRmr6UZkjMkEuQi+FY7kzQbV/nT48gChBNFN6fuluKEHlEF/pWHMmQaeMzJO2WTdBizN+wrTmMkH9Y/NSPQUyQacr2GleoTtBIlgO9jm0OUFIz8NhJIg6QbIPguae9jBBjx+A1SeyLkEaAwOH+OIsQeJeQXzzhStBC9swMp/tJEG3qlSYdF0xQajXAwAQRzBBjePz2LmqOUHJyNn23mYzQeaR16/nRihBW4ADNiSgOkGFPYSd8P80QQnf5Wrl8DFBo2GV4vjVNEGLCkbV8wkwQd2yIgMczTJBl3wK+204OUETCM6IzvI0QTJeng2hty5BKJJxoSNVKkE4sZACjTwxQZlKL4vo/yZBoS0GxXJ8L0HUK0k+NDA1QRpy5WPpRDVBFUFYZU2hM0FJ/q3CUkQ1QTQ76XKdWDdBxQiE2My8NEHu7jqcouktQYCvWjBcyjJBnxGzrla8L0H4CJnTJJwwQb23bjI4zS1BiF4axP9WJ0GOyLGmu7wlQZ5qcVF00CxBOVbgRZgoM0FynWtXejYvQbhGNR7AtzVBO5hYaJ+5MkH3SHwBbBQ8QeSy00RqSy9B3nuC2DhkL0EpQfIim5szQQaJu1slnjJBSoUWVPV/IUFDbU+ij1EqQU6KcQSs7ixBCOuXja2bOEFXzLH75aI1QfP3xNE8NzFBvu1qX0Y9MUHEN1rJodw4QSnkn2z4BTdBfD8Q7ngEO0GXdV29jsY+QY/wdMXf0S1BKdhnpNWQMUG2b1tC+doxQbk/j/TYADNBXKBJacKINUEoQr5zJGsoQcwMkm75xjNB/80T4idGL0GVY6HO22k4QWRD8FvPDUFBzyFxzN+2MEEmLqwYyNgyQcDozZ0edTdBpsjb+1tSNkEonOL2RBY2QdAkI3qYkyNBv5wmK8NiNkHC0oBFHxQyQXKvMx0Zsi1Bf7qUur5CNEH01kAt5dk8QbNS6iiPey5B0RRXaZJfOEGO1HOrbDEsQbfekovDYDBBAe58aXzlMkEdcE6YLCk3QQ4KBBPuXy1BplqdnoHtNEELYAu6/H80QaBm74YdKDdBn7+RWq55NEHFNr6TqI41QYM1fgmOBjZB151iX07dLEHNfYCiq8YvQZ0z66GU+DVBllk0d8Q1NkEPK5KRqOI6QQucPifwHzVBkE+EB1xBMUGg4Gl0pH4xQWpjh123GDFBrqyfAg0eOEEzS2PpSlM0QSk71ASm1ixBOHYbAtMvNkHYLc6M5TIyQRm2lLGSvzRBolW7ACFAGkEZWlc2TZYyQeMTAqiPTDVBbhmnVQDyM0GshV+FjTY9QVVxRv7TVz5BavoIT+iCJUE2BbIYLeY3Qewg+LbKZTJBTJFmOe0jJ0H2SxJnKBk0QUa8BW83OjVBlNSCqf+IJkGPZGD9rAkzQbDaT0fUiS9BCute+bMUL0GOFVAt6ZE4Qax3x6q/zStBgtwjP5sCMUHm5RE19gIvQQmX8IaOzDJBTVuwfhMhL0Fd7AxSQa42QahyJnNwtTtBi8INUMc2LUFpw8TPrUM6QSjiaIKHWzZBM7T0NyWDLkEOIChG6aQxQaD9ASHETydByV96uWkCMUFkZyLbXVI1QY8gug3lHzlBXqMECMzUMUGiHHF/uwEyQaf/FP82WCdBBXlTfsogIEF0nCHSR1Q2QXV5gZnADC5BUuxcuGk+O0GWFmLnfwYwQRGtGwntBkBBO3+HNDVrNkGsrFBd9aYxQVCVrtSzOTdBHNvF7ckCNUFTDBrh6HE5QcUzxu6JXDFBCow0ENFDN0Eco1mEx2EqQTpKss2V9TRBG0nwWhSLLkFdo3BV96o4QSstWDBjFjpBLj6Hr+XgMEHRZkdQ1/UgQdwUamRdrDBBgV4PAdq1K0GcQ5LMtzM0QUMryb86GylBvnNxWA1SMkEUl+k1UNIrQZuMHD9tSi5B/4j2sEAcM0HYFgHKRCArQQN+GOcrvDhB0zv4sUUJM0HvybONQGswQRUqRsaTBjVBB1kyqusiO0Fsv96I9bIuQST4z+9ZMjZBFUqyut0SNUHn3IfEBHsqQbZvrWzBTjFB/ps5fZa2JUE7B+8Y2185QVAiTkVhyStB2O5Io1D/MEH+yIZKsMggQfogoBQR6zFBoi0VNG9HNEEmR8jEUtE0QSLV83i9NTdBXEkzb3pTLkHwtUHQBnYdQX8e5lIcSjFBLe5aA6TNOEErI4JVe6IuQfoQN8a+uC5BfavLZLOzKkGhuQLvdfUvQfPgqokZKzhBqu0E/KYMNkEzN4w9kaI5QZNmRBedpTJBJ6dn1VbqJEENqH/QcPA5QX3oo34uuipBEsLrxV0YMUGhq7K1pWI5QbBQM+4wZS9BT/xawz36NUHG/MfyhsMyQav7tCwNKTpB1j7Vpej7MUHpj7PL/JQwQUwgoJTwujdBNXBaBj1ROkHtHybwfbc3QS6yu7De3TpB/29ttepwN0H0GoAgIHgyQX+fazl4NjVBi3bbEl8zNkEyUOBO18I5QTexJw6+RSlB8P6vLTGANEHDJL3FVGoUQdYymWg4KTNBnFHLe98HMkF/GPgxmjgrQRjHGYHkvyRByVNsbNZ+L0H3BpMr1uUyQRaEk0uUYDJBsCjizbiYNkFKPJlMXuI0QVStlo0GdTBBm/hMokQtKkF3tBNKAps7Qbpk+pdwIjlBW7hpCjr/P0HbXfS4GxM5QQ77Jv8+8y9BvXqiX+OaPUF5EZ965PkwQX35R9C0KRlBaLIVJ3SHJ0EQN/B+x6s6QU1awgVmtB5BXgtgRev8NEGIuzsGm58pQW3eTsUxaClBQeVT87qZNkEOI8ynsF41QfqvsFjt5ydBBdu4p1FNOkGcDd+k/ccqQZ/7iF+buzVBrysbb6BiMUFWlMGHSnw1QVeADe7VzDVBh+d7gJprNUHlnXsEV4QwQbgOtl3TNzFBhThBUphCM0FXi510o1wuQS9qUJXg+zVBHl0V2uL9MEEXyYDQWtc1QUDCnv0RUy1BIWtcJwTKNEFoXOpXJWw/QfdmhqjdwTFB7EpVgHjnNEHNwzjgsr0zQVPkJ0nGjjVB1sOHAHuhMkEw6wKQX0g6QTUcVt9ASjJB3p1brsRDMkE35EOG60AQQeSiz3ag+SVB07l9GRz2MEFwy3IegxExQYo+U3oa2TJBQjqDp8gDMUHk0LQNP8k0QauJsuFBoDBB7xadpvPUMUGa1hXqfdwyQSmkAN1i3C9B1TnEh/qPNEFQj/JIiOo3QVtZgiCqRTNBG+yxFBHgNkHK8sdJAwA3QdyyaMm+QDBBKMfs6DPiM0EM6hnOBm80Qe2FCZNwhzJBZtj+Dz+wPEHeZaFwyS4yQejS7oGGcy5BSTCM7UQPM0GkSk06rN41QbIykad5jjdBO5ruHvFhOUHWVjmXG8MvQRgGo/oJjyBBVrutS+DzIEEHFeE0KRYwQfUHtjrElDRBEyAqQwaYMkFTXcfOChsgQe2b2ugAhjFBYlrw0Y7jMkGz8UbkrOI7QfWmZGutQjpBto6rQOusMkG1Xf/25M82QQ+V2T6VjTVBdfdtHLUsNUHPZCjhVOM2QSRPmK/YQzNBbCB68I0AOUGFvjSx/+wyQXqA5njfgyNBsnKaZhfWMUFS4S5wWuktQXhfJn+sSz9BrZzrG18INUEm7UIjUPQmQTjxI07/PjBBFyVkXPGEK0EeCARJ+S89QRfnF4Z5EzhBU9jWJYWMNkHREGAvoh01QWcm+KtmAzdBZ5qvmo1zEkHn9J6feds4QU3PcoXG5T5BiZ8YHiTkGkGGBTAbfSg3QYNdW0vWUzJBiXzUXUwbOkEWYJjbS6MuQQIf9DCj4yhBL0dk5KtGKkHeij8cAKUmQdH9kQ/fXylB4Gqv5ZrJLEFxnLHJPdM4Qdtkx5TxjjNBoudcRDF1MEEtoABCOxAuQetcjAHmljpBMPmV9ei3LkFwoJHPRLY1QetYbGcAcxtBsZBS8QJOMkGUNZkCufQ2QUjVsRqKXjJB+XY1Z1KaMkEmH7puff8yQX1ypBebmTFBx0VRKpgUOEHdzKH7ccY0QcFz1HYLdjNBB0fDiJ4ENEHGFKchxhQpQX5nsInO/jhBfyLU3SnGNkG+3cDML4UzQVv5heuv3TNBrpauqIaHL0HAJ5nUl2ctQbqfwdt+cy9BBOH9vle3PkELfsRWyBojQWQbskkcPDBBN9K+iuDANUEXpYebDfE5Qf4VCGsI7C5BXBRYtGuKMEH9htJOuRcsQXRQ6OiyeS9BnkX6ylMdM0F7DfkOgFYwQaLt0fZ36DZBfBofAF/wNkFdZyb6M6YqQX4BTbNYTThBbnefZ9iENUGVXT0aDAw8Qalf933XOyxBmiZ7Y87qNEHtMVk9VXMoQfvVk8OYsDdBYm6vPvRPKEFsGaHajfs4QathpwzV+jNBeM02GkYQOkGLVeJ3N8YyQfZ5e31vKTFBX4MmumOlNUEetJ6daBkzQZnfQKF6RD9BMliQEFvtKEH6MNuSBCc3QT06RltwcThB5SlcCxRGOEF9IrfJQ6wuQWAh1U1opjNBf6PXF0YkNkHHYnAT/3UxQSchDSoaBzNBD31eIU4qMEE1diD5focyQepmvfjWlC1BYVFO0agBOEGqgfwilw42QcAGJodLozhBxHVpk50CNEFoFCK0eGQwQYZCJI3TsjZBNkO1/spmMkHbTFVL2tsoQVf+uabgADBBKT6ty2zLJUE2F5C7gWQ4QW88cIlmMTBBA2uasAP9N0GcaPBOX18oQdxaH2DbbzZBbjapO2aeOEGKZbxe58pBQdbf9k0eIDVBi2xAGm5sMEHZODQySPwzQZLnjz3JwDZBhg+7myIOJEF/rHRBrHo6QfXOsxCbNjNBu4tq5WRvN0F++yUljt4mQa4TiSJ5NjZBzaky4t98JEERNR36a9k1Qbp3g87XhC5BREhCzJW8M0GzGpItuMcxQXZjtZ3byixBDp4sOjJEHUGUqGNesjc4QeAsYIQ3JTVB4J3SUQzENEFKJMZ3tv4wQZzIFcWN3DFBTphrW5LVNkExhZguXD4rQfzyuemN/jVBxGD1E/ZMMUELEu75ONwlQYTmVmKLRTpBBIxsRc7+K0ETxehBHcI5QdTmJBlZQzRBOS27/AbJIkEqOa0TrRshQZflm26x8TpBLzZwAGJXOUEh1gOpvA8nQcCeXRwzxC1BR7vPqjugNUFpcuXJOEQwQSg6jW36rCVB85F6bKzcKkF8Q+n3y7IwQUIubvxgrSlBur+2Sr/oMUGzVFJ4IFs2Qdkk+PVxQDNBCDD3HyKWJUFkcapHVN0yQTgeCke47SZBTNWWdffVMUHBu91R49MxQeByGWTrNS9BJxEOIWq9MkH1FEEtAYw1QT8hScU2pitBNwBJbr/5NkFp1tMsX6otQUTaKVZSnDNBS3LacVt9NUGEN0iOh2M2QSWxqP+L+zhBy3OmqcfaNEFLU2BFv4EsQWCxRH0e4TNBmfKiJeXAJkEAeZBqgNwwQd6QZRUrcjJB0q/sqfXCL0HipYLDWhkuQeW/yyNk6i1BxS/JBOvJOUF/jHVWabkbQbux9WcfdTtBaLcb/4uaNEEJwPf4HuciQXfPfG141TFBEtHf4y9cMkEUd969IgovQUWQRPJNOihB/PwOlXo3PUGz8rVee502QY45QEzeXztBhLAZ2aTHNEHCNCiy+q0yQWnCED9X5DBB+zZjPkFyNUGoBN+UO1w9QaO/Doi1+TdBVJMs8ZbzKkHihwPG37QwQXZaz1ml1zNBRlswSxwXNUEyuVe5x1ovQdEjejkH2TdBmDvauD6sLkHzE1nqc6cxQVfALqwvuDBBlnID2ge3NEHA7/Ras1AlQT2JhXvAyyhBItrA7hAgMUFSHjCo46U1QcU9Mzj8sCFB1HNGc24rMUHngCB4skM8QRc2f+4bKTFBpG1jUYSNOEFuxIuz/RI1QWxdjCLhSyVBqrEi3EIUNkEmjKQjpwc5QXB922zq4CBBakwr/RFRMkG/fq0/Z0M0QR2DVPNpHixB6926PTz1LkG+J8ju92QxQbULP9dg0DJBZ2t3tywdLEG/QwbzxQcyQUfrY1P9ySpBnWg8VCSLLUFH6zJtmDQrQXCybk4zyjFBCpGhqXplLEHnW8FhnaQzQf9XuQghXzVBSj/KdwAtNkFQ78f8q78tQXQxziEQ3TRBrauElKLWL0G9RUlu56gkQSNSNADciSdB+syBH4ZeKkFljvJTXQs2QVjs32//GjFB2PrM84PxL0HhSD5kjXUtQT5Jl2RmaDpBe4Z3IXxFLkHq2YvOuj8vQf76uyWsgipBCX9Vb8/RKUH+tlZNzicrQaGUNL9KvjJBhwbNGs0kMkEBlgrUt4g4QRM9W3Dd1zVBFofG5CDdMUHHhEr7InciQdCEGUbd8ThBpvJK1xEjNkG57rLORKMzQcJV3l8KpTBBsAClYSxmM0Hp3h7uloM0QWOta0hyLDdBZZ5QZhGOMEHsqgiVUFItQb6nqrwq8TJB/AAPcU8BMkH737w0ldcyQTMUSHTLRTJBbwGjD83XN0EUCUHrMnY9QainOUjiIi1Boy54m1GoNUE+hekdSIwqQRXfhv3xvy9B6sOkjn3tNUELnYrr8cwiQf5notD2qjdBhdv0lTtbMUHZh/vWCKsyQaqdY3pYyixBzmhx1LbSM0GFDVShNhQ1QZFX6yqdUC9Bm8Yxm3k+MEF4rpUwhuUyQfmqDfzUSDVBA6XfOEKBN0Gy0tPlqlo1QXR2+vZozCxBD6BebE3kLkEPhlApE0kqQTfk4WWcVzpBl3JJIyO2O0GbdyTHuOM0QWt5lF6sGSRBGg70uCLkMUF4Nm+Dt1Q1QXNSIp1peDFBK8YgYrxqNEFmY2K5dIElQUPxBuUs0DNB2JDyQaBpNUEkWgFafQUwQZ6WuoYP3jFB8bbm3MDdIUGfZ5nKQjg3QSvDPnS/OTRB6LYFkW8OMkFTKCCDVH8zQVBGjU8p8zRBH89PRwLHNUFcET5l8sY6QWyJFZRpWzdBM2yTnVipMEGjzZ3dqtA3QasUQU8BCS9B5hoqWdPMM0FVBFiWPZQmQWHAmwKipzdBv6YMd5JoOEHrrKvf2/42Qa4E5JEEUD1BKsniZCVvN0HUgSkRNDEzQUxvgipDIjBB0UoTU4MZNUG1g1RW7l4zQWYPFAq+KTBBBcEsKYDiJ0Ee8JRpgfw1QWffAT/raTlBZgq4ie+zNkFYqXV8LdoyQYUq07qhpClB+RNiSnKGN0HSnnRBVFw1QZUAdusNYzVBVzv2IO0HKkHSid7nkZ0vQeGuAAiqdjJBhH3Olb4CJUG9b+FO2TQwQXPG8noG0jNBJ7Cs2PHtKUEGbdNY6v4+QXIWMTKU4jtB9LMedjztMkHW8ewez0IwQUPqzLTb2DtBYAhSLY95L0GQpkO01ggwQdd/i23qvDBB7SEitrXVPUGbJjzRttUxQRAZhVt0fzJBggogUS1TLUH6MFCOJ+sxQQHZ7TKqMjFB1En7wGJ8JkEIHI2z/DIiQS9JUIebBytBBPMiHM/jNUFsXWxDUnAoQXO3PTtrMjZBobOHisjzL0F9UMtdCjcwQVFLKb0wfzNBiWBw0kHRLEG6W6O45ngsQdxxMnXhxCZBvxGoarEAOUF4/4+lZZk0QdJyBv7t7jNB4CqE9ZanNUF1vLFyxcMkQejGhuPpDCNBx5Y8xGEjL0E9B9Ktxb4xQfmjHr3VfS5BQYDEsjEIM0EsKCbzlYgvQeTnJQBeCjBBBa3q1EMOOUHkvHQmY4gyQSz7WTYpky5BU5X8FMo5L0Gicl8C8Vo/QTRmcUfu9ydBwaF2lbTSMEEf0w1jekMtQTMtlsICGTtBjz3Vk8E1MUGdGhpFmX4uQeDyjO26D0BBJCp8RF4QH0GXeaZzl487QaeAAh0kpCdB/dl7Ihj9MkECTL8/LCgxQU9LEiAB/TpBCKEwHTHTMEGWBQoly0A3QS2PHMbkMzlBrXazeiRmOkH89WefsO4zQZiIGBRl+DNBZ7nJtLY2M0E2sG66jUM3Qetj1/ZU2ihBppoYL1VkL0HsvipO6VQ9QcI8iWjgqTtBNbMWT5Y/MEHFQDq3F1w4QfKRWwwTHTlBqWle1i3UMkEOn3JUXu0vQTTs3y48VDFB8PtrMr3jMUHxRx/HGAU+QVTDcspQ/CFBbz2oWnmqOEFo41KHxH0zQTT4Ca6XDyhBGnaPPmFoNkEmWS0vs641QbUrhS6q2zhBmgI1Vy1/MkHCxsIAr44wQdKQtPpbPjZB423NNcJnNUHyGAAUB3g5QXRaTCM0nClBCXOfMI6LM0Hqd19uP+U3QeHv7c3CMjNBEbowg29LOEHlIwgRFFcwQepCzIQSjjVB7fUUIjdmOkH6Iyc5tpE5Qe8WVACN/DVB1CVHOeD1L0HR3pcHW40wQa8FAXpM0jJBpG6qmjC8OkHY7MgDHiguQXBiEtKL1SJBo21xn1UmN0G8Nzw9XzAqQQJOy7NeVyJB/G2TAa6DL0H4Vjqlrt01QZyOy6RNQS5BQcAvB4rXM0Es9dA66+w2QV2ryvrM3TFBDEVkf2GsMkEHfqBU4pU5QdqhGd63QDxBq0sHmpemLEFhuAffk8M0QeQAo/nWbDBBxqkSIT8RN0EtHvc6P9YzQan9J91q+TVBCDRBTUj1NEFJxolVzmwbQWpnJPqjVRRBCRJTmnvEK0E63cEYRpk4QbOPqZopmTFBQmh2cv1PMkFRI1UBknw6QZ/Kjw/blTJBj2l6WsYCL0H9TJSfb/QtQTOy8trNeDJBXKL5wT1PMUHqUL6lYUo3QZJO3bvffyJBYaMu0fc9MUFjskOU+Pg7Qe2KBVPo2DFBnbrxZ2urKEHVKYOGnGwxQWBBl3xXVDZBquGAys+7MUGvcVYLolMrQR7ZkuCKJjZB3tiTfn7DNkHQGQ3ACO0oQQOH3EdXdThBxguoxnF1MUG4nJSr6S5BQQBQo41mCztBW/EhW+4YH0FpoOO5uT41QXwegzVNDjNBJywCCEWaMUE96MyemoIzQWssDDo4TzBBWP+uMdqcNkFpcq17cX0zQcNOOkETYy5BIZbSNa9YMEGA2/k344EyQSOHdM6BFTpBzu57eu4YM0HIIHAYAZExQTGBHMo/ADBBMEIkR04SOUHcwO5yBbEsQTlwF/5XezdBKPjSpepnMkGQBZ4Xio40QWqcIQIH5zdBQhtZ8BLHM0HwakxSE5U0QV5wNUaSKDtBYFasOLGjO0FDXksgtFM3QZfYzVvJwTRBgKl20Md5NkHzV0sOuXEyQXZqaPMX1jNB5l/iqmCyNEHtfGnAxGgoQbSWHIq00i1BW0NasfPYMEFB1PSGxQ4jQZP61sbBZDBB1Nwag90mLkE6rSCtYn00QQiuXkeBYDVB5tbGn5H6LUGZlXci+sQ1QZAo3SO2gDlBifetesm2MkFGRRxMyJ01QUb4PEJAzTBBGG6qakTSIkFcMkam4cA8QdAnOtFheTdBhXhzldHKIUGxOiPPF2Q6QQe459rXcTVBNz0jBDn3L0EIOiixRo4kQdh18aXPuTlB/VJ5t2bcNEHBevRctPApQbE+e/DXZDNBwnQ4giYNMkEcPny5gTIrQW392IEwJTVB+j7DmJN/LkE+gss91EU1QfU7IZolIihB/EyfRJ0FMUGRY6kzaYg8QcuYHjq5dTBBGXnjsSq6N0Ey7Qz8UAo3QQL9J4mZ1jZBb7AXxu1gNkEBgNrX6102QV4VifZIpTBBm0CjrV+LMEFd1DpJBKI+QVVCD7V91jBBVzBqL66zMEHLks1b5hwqQc0UuaDCVjVBD84uZ+dNMUEm/SGFIDAyQcYFrUW3PjNB+8dSUZzTLEH7f2449W07QQ1DL73izSlBGZCXNw4uKUH0yBwrB3UzQdJC4iaQTCRBG+Natwm3OEFjnVCI4MEuQQTXM3C/KjtBcRt0yDm1MkFtVvbgb/AsQS8hCpom2zJBvn7YXw8TMkHqxOWDdw81QStwLRyR5zJBNszzeuwYJUFmHIyUEko1QQrmVlPxrS1BuN1SoBZKNkHYjTYpmgYyQRNU0p9FLTZBwCPZcVXMNkHCUGDkCEUqQWR0zKOD+DVBronIQiDiNUEqgEMbQQkrQW1h4l3QuCNBx2pmfmUfNkHItwNHHwcxQSWMHCVfyDVBd5MERTKNL0EALwrXQlwtQSIx15n41TBBN+oM4+W8MUHazuIMdTYmQZh13AJ1SDZBw/ECoIB4MkEWHU0XhaYyQU7yKJJ/kjZBdbQkYTaUL0EUXF3fBCE6QfcvxhPSpS9BZec8mRpJNUFFSmiPfRQyQYixHOQAeihBGNBJMYXxKUElETbUJNIzQQXf1S01GjJBJSdEiOLIM0HWuNRgUt0sQelCRzp5SDRB6eR9qbQ4JUGIywFp0R05QTaNg03X+zhBt4GMf12pNEF19CMPrP08QdismwuErEBBS3ZLN/aLPkGSb5M5I74yQbQkFhH/WDpB5DtXBdiWMkHphdOnJWI6QTxz1XYPYzNBFqpG56V1L0EKGQdk8aszQZ6GABHR6zFBsNYZRyLeNEE2VkQiOtcnQVBp7zprZzZBxdSVaNOULEFHBLTxozk3QSgzs2kd1TVBXbcL+zIYMEEqlCEFTiw8QazvMxr7AjNBryOFjfCyGkHn70sQDHAzQeXiDwKf+DBBAfaboZonNkF1vAv/Ioc2QRdUxFLxAjRBoKtPQigKK0GZTq9EoCs0QeaQnppU4CpBmIZHCbGMLUHO2zwwbgYzQTicXJjCjjFBvxBRk5RWLUEALAtXUBcyQRhD6FZIjylBG5qLTfr4MEF29Of0M1gyQfOpvFykpzlB2cZ0zO11NEE6BoPmYrs8QQ9JAMtK2ThBbHVzPTH3M0G6YhlbgOI1QfxR+SLxpjtBbIxbw4cRLkEfPQ/gBTE+QSNlHhwiJzNBaXW/IBToN0FVjEURIOQwQeeq3AeADDVBtxE21utIMUH5hFlLezUtQUeAivUciSdBBpXGQnKxNEFbNjkiFsMwQZQDqpVgJjdBL0lghLTcNUGzB+fDfZI0QXSOFWbx/DNB11s/P3d5NkGa6pYe4oI1QX5eOJGMzy5B\",\"dtype\":\"float64\",\"order\":\"little\",\"shape\":[1500]},\"True_Values\":{\"__ndarray__\":\"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\",\"dtype\":\"float64\",\"order\":\"little\",\"shape\":[1500]}},\"selected\":{\"id\":\"2405\"},\"selection_policy\":{\"id\":\"2430\"}},\"id\":\"2404\",\"type\":\"ColumnDataSource\"},{\"attributes\":{\"source\":{\"id\":\"2404\"}},\"id\":\"2411\",\"type\":\"CDSView\"},{\"attributes\":{\"fill_alpha\":{\"value\":0.2},\"fill_color\":{\"value\":\"#30a2da\"},\"hatch_alpha\":{\"value\":0.2},\"hatch_color\":{\"value\":\"#30a2da\"},\"line_alpha\":{\"value\":0.2},\"line_color\":{\"value\":\"#30a2da\"},\"size\":{\"value\":5.477225575051661},\"x\":{\"field\":\"True Values\"},\"y\":{\"field\":\"Predicted Values\"}},\"id\":\"2409\",\"type\":\"Scatter\"},{\"attributes\":{\"bottom_units\":\"screen\",\"coordinates\":null,\"fill_alpha\":0.5,\"fill_color\":\"lightgrey\",\"group\":null,\"left_units\":\"screen\",\"level\":\"overlay\",\"line_alpha\":1.0,\"line_color\":\"black\",\"line_dash\":[4,4],\"line_width\":2,\"right_units\":\"screen\",\"syncable\":false,\"top_units\":\"screen\"},\"id\":\"2396\",\"type\":\"BoxAnnotation\"},{\"attributes\":{\"end\":2566229.915929083,\"reset_end\":2566229.915929083,\"reset_start\":104733.76481811586,\"start\":104733.76481811586,\"tags\":[[[\"True Values\",\"True Values\",null]]]},\"id\":\"2371\",\"type\":\"Range1d\"},{\"attributes\":{\"fill_color\":{\"value\":\"#30a2da\"},\"hatch_color\":{\"value\":\"#30a2da\"},\"line_color\":{\"value\":\"#30a2da\"},\"size\":{\"value\":5.477225575051661},\"x\":{\"field\":\"True Values\"},\"y\":{\"field\":\"Predicted Values\"}},\"id\":\"2407\",\"type\":\"Scatter\"},{\"attributes\":{\"below\":[{\"id\":\"2383\"}],\"center\":[{\"id\":\"2386\"},{\"id\":\"2390\"}],\"height\":300,\"left\":[{\"id\":\"2387\"}],\"margin\":[5,5,5,5],\"min_border_bottom\":10,\"min_border_left\":10,\"min_border_right\":10,\"min_border_top\":10,\"renderers\":[{\"id\":\"2410\"}],\"sizing_mode\":\"fixed\",\"title\":{\"id\":\"2375\"},\"toolbar\":{\"id\":\"2397\"},\"width\":700,\"x_range\":{\"id\":\"2371\"},\"x_scale\":{\"id\":\"2379\"},\"y_range\":{\"id\":\"2372\"},\"y_scale\":{\"id\":\"2381\"}},\"id\":\"2374\",\"subtype\":\"Figure\",\"type\":\"Plot\"},{\"attributes\":{},\"id\":\"2430\",\"type\":\"UnionRenderers\"},{\"attributes\":{},\"id\":\"2381\",\"type\":\"LinearScale\"},{\"attributes\":{\"callback\":null,\"renderers\":[{\"id\":\"2410\"}],\"tags\":[\"hv_created\"],\"tooltips\":[[\"True Values\",\"@{True_Values}\"],[\"Predicted Values\",\"@{Predicted_Values}\"]]},\"id\":\"2373\",\"type\":\"HoverTool\"},{\"attributes\":{\"end\":2695986.9035533587,\"reset_end\":2695986.9035533587,\"reset_start\":36160.50166598556,\"start\":36160.50166598556,\"tags\":[[[\"Predicted Values\",\"Predicted Values\",null]]]},\"id\":\"2372\",\"type\":\"Range1d\"}],\"root_ids\":[\"2370\"]},\"title\":\"Bokeh Application\",\"version\":\"2.4.3\"}};\n",
       "    var render_items = [{\"docid\":\"08844aac-a8bd-409a-90b8-a59b937a288b\",\"root_ids\":[\"2370\"],\"roots\":{\"2370\":\"22744957-659f-4c10-a69a-021662d6b145\"}}];\n",
       "    root.Bokeh.embed.embed_items_notebook(docs_json, render_items);\n",
       "    for (const render_item of render_items) {\n",
       "      for (const root_id of render_item.root_ids) {\n",
       "\tconst id_el = document.getElementById(root_id)\n",
       "\tif (id_el.children.length && (id_el.children[0].className === 'bk-root')) {\n",
       "\t  const root_el = id_el.children[0]\n",
       "\t  root_el.id = root_el.id + '-rendered'\n",
       "\t}\n",
       "      }\n",
       "    }\n",
       "  }\n",
       "  if (root.Bokeh !== undefined && root.Bokeh.Panel !== undefined) {\n",
       "    embed_document(root);\n",
       "  } else {\n",
       "    var attempts = 0;\n",
       "    var timer = setInterval(function(root) {\n",
       "      if (root.Bokeh !== undefined && root.Bokeh.Panel !== undefined) {\n",
       "        clearInterval(timer);\n",
       "        embed_document(root);\n",
       "      } else if (document.readyState == \"complete\") {\n",
       "        attempts++;\n",
       "        if (attempts > 200) {\n",
       "          clearInterval(timer);\n",
       "          console.log(\"Bokeh: ERROR: Unable to run BokehJS code because BokehJS library is missing\");\n",
       "        }\n",
       "      }\n",
       "    }, 25, root)\n",
       "  }\n",
       "})(window);</script>"
      ],
      "text/plain": [
       ":Scatter   [True Values]   (Predicted Values)"
      ]
     },
     "execution_count": 129,
     "metadata": {
      "application/vnd.holoviews_exec.v0+json": {
       "id": "2370"
      }
     },
     "output_type": "execute_result"
    }
   ],
   "source": [
    "pd.DataFrame({'True Values': y_test, 'Predicted Values': pred}).hvplot.scatter(x='True Values', y='Predicted Values')"
   ]
  },
  {
   "cell_type": "markdown",
   "id": "6f88936d-f778-4262-bf26-d60bb0ebf847",
   "metadata": {},
   "source": [
    "**Residual Histogram**"
   ]
  },
  {
   "cell_type": "code",
   "execution_count": 130,
   "id": "82acbc4a-a90c-485b-8a75-59da5cebb072",
   "metadata": {},
   "outputs": [
    {
     "data": {},
     "metadata": {},
     "output_type": "display_data"
    },
    {
     "data": {
      "application/vnd.holoviews_exec.v0+json": "",
      "text/html": [
       "<div id='2484'>\n",
       "  <div class=\"bk-root\" id=\"e4721ce5-a4bd-49ae-a09f-9676f9f4b1bf\" data-root-id=\"2484\"></div>\n",
       "</div>\n",
       "<script type=\"application/javascript\">(function(root) {\n",
       "  function embed_document(root) {\n",
       "    var docs_json = {\"e2fa2a6e-09d0-489f-b871-331dda5b1327\":{\"defs\":[{\"extends\":null,\"module\":null,\"name\":\"ReactiveHTML1\",\"overrides\":[],\"properties\":[]},{\"extends\":null,\"module\":null,\"name\":\"FlexBox1\",\"overrides\":[],\"properties\":[{\"default\":\"flex-start\",\"kind\":null,\"name\":\"align_content\"},{\"default\":\"flex-start\",\"kind\":null,\"name\":\"align_items\"},{\"default\":\"row\",\"kind\":null,\"name\":\"flex_direction\"},{\"default\":\"wrap\",\"kind\":null,\"name\":\"flex_wrap\"},{\"default\":\"flex-start\",\"kind\":null,\"name\":\"justify_content\"}]},{\"extends\":null,\"module\":null,\"name\":\"GridStack1\",\"overrides\":[],\"properties\":[{\"default\":\"warn\",\"kind\":null,\"name\":\"mode\"},{\"default\":null,\"kind\":null,\"name\":\"ncols\"},{\"default\":null,\"kind\":null,\"name\":\"nrows\"},{\"default\":true,\"kind\":null,\"name\":\"allow_resize\"},{\"default\":true,\"kind\":null,\"name\":\"allow_drag\"},{\"default\":[],\"kind\":null,\"name\":\"state\"}]},{\"extends\":null,\"module\":null,\"name\":\"click1\",\"overrides\":[],\"properties\":[{\"default\":\"\",\"kind\":null,\"name\":\"terminal_output\"},{\"default\":\"\",\"kind\":null,\"name\":\"debug_name\"},{\"default\":0,\"kind\":null,\"name\":\"clears\"}]},{\"extends\":null,\"module\":null,\"name\":\"NotificationAreaBase1\",\"overrides\":[],\"properties\":[{\"default\":\"bottom-right\",\"kind\":null,\"name\":\"position\"},{\"default\":0,\"kind\":null,\"name\":\"_clear\"}]},{\"extends\":null,\"module\":null,\"name\":\"NotificationArea1\",\"overrides\":[],\"properties\":[{\"default\":[],\"kind\":null,\"name\":\"notifications\"},{\"default\":\"bottom-right\",\"kind\":null,\"name\":\"position\"},{\"default\":0,\"kind\":null,\"name\":\"_clear\"},{\"default\":[{\"background\":\"#ffc107\",\"icon\":{\"className\":\"fas fa-exclamation-triangle\",\"color\":\"white\",\"tagName\":\"i\"},\"type\":\"warning\"},{\"background\":\"#007bff\",\"icon\":{\"className\":\"fas fa-info-circle\",\"color\":\"white\",\"tagName\":\"i\"},\"type\":\"info\"}],\"kind\":null,\"name\":\"types\"}]},{\"extends\":null,\"module\":null,\"name\":\"Notification\",\"overrides\":[],\"properties\":[{\"default\":null,\"kind\":null,\"name\":\"background\"},{\"default\":3000,\"kind\":null,\"name\":\"duration\"},{\"default\":null,\"kind\":null,\"name\":\"icon\"},{\"default\":\"\",\"kind\":null,\"name\":\"message\"},{\"default\":null,\"kind\":null,\"name\":\"notification_type\"},{\"default\":false,\"kind\":null,\"name\":\"_destroyed\"}]},{\"extends\":null,\"module\":null,\"name\":\"TemplateActions1\",\"overrides\":[],\"properties\":[{\"default\":0,\"kind\":null,\"name\":\"open_modal\"},{\"default\":0,\"kind\":null,\"name\":\"close_modal\"}]},{\"extends\":null,\"module\":null,\"name\":\"MaterialTemplateActions1\",\"overrides\":[],\"properties\":[{\"default\":0,\"kind\":null,\"name\":\"open_modal\"},{\"default\":0,\"kind\":null,\"name\":\"close_modal\"}]}],\"roots\":{\"references\":[{\"attributes\":{\"axis\":{\"id\":\"2497\"},\"coordinates\":null,\"grid_line_color\":null,\"group\":null,\"ticker\":null},\"id\":\"2500\",\"type\":\"Grid\"},{\"attributes\":{\"data\":{\"x\":{\"__ndarray__\":\"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\",\"dtype\":\"float64\",\"order\":\"little\",\"shape\":[200]},\"y\":{\"__ndarray__\":\"AAAAAAAAAAAAAAAAAAAAAAAAAAAAAAAAAAAAAAAAAAAAAAAAAAAAAAAAAAAAAAAAAAAAAAAAAAAAAAAAAAAAAAAAAAAAAAAAAAAAAAAAAAAAAAAAAAAAAAAAAAAAAAAAAAAAAAAAAAAAAAAAAAAAAAAAAAAAAAAAAAAAAAAAAAAAAAAAAAAAAAAAAAAAAAAAAAAAAAAAAAAAAAAAAAAAAAAAAAAAAAAAAAAAAAAAAAAAAAAAAAAAAAAAAAAAAAAAAAAAAAAAAAAAAAAAAAAAAAAAAAAAAAAAAAAAAAAAAAAAAAAAAAAAAAAAAAAAAAAAAAAAAAAAAAAAAAAAAAAAAAAAAAAAAAAAAAAAAAAAAAAAAAAAAAAAAAAAAAAAAAAAAAAAAAAAAAAAAAAAAAAAAAAAAAAAAAAAAAAAAAAAAAAAAAAAAAAAAAAAAAAAAAAAAAAAAAAAAAAAAAAAAAAAAAAAAAAAAAAAAAAAAAAAAAAAAAAAAAAAAAAAAAAAAAAAAAAAAAAAAAAAAAAAAAAAAAAAAAAAAAAAAAAAAAAAAAAAAAAAAAAAAAAAAAAAAAAAAAAAAAAAAAAAAAAAAAAAAAAAAAAAAAAAAAAAAAAAAAAAAAAAAAAAAAAAAAAAAAAAAAAAAAAAAAAAAAAAAAAAAAAAAAAAAAAAAAAAAAAAAAAAAAAAAAAAAAAAAAAAAAAAAAAAAAAAAAAAAAAAAAAAAAAAAAAAAAAAAAAAAAAAAAAAAAAAAAAAAAAAAAAAAAAAAAAAAAAAAAAAAAAAAAAAAAAAAAAAAAAAAAAAAAAAAAAAAAAAAAAAAAAAAAAAAAAAAAAAAAAAAAAAAAAAAAAAAAAAAAAAAAAAAAAAAAAAAAAAAAAAAAAAAAAAAAAAAAAAAAAAAAAAAAAAAAAAAAAAAAAAAAAAAAAAAAAAAAAAAAAAAAAAAAAAAAAAAAAAAAAAAAAAAAAAAAAAAAAAAAAAAAAAAAAAAAAAAAAAAAAAAAAAAAAAAAAAAAAAAAAAAAAAAAAAAAAAAAAAAAAAAAAAAAAAAAAAAAAAAAAAAAAAAABn77zCNrHhPbt8zOwZ5vc9H3OypR6wDD5qTN0IxqsePvAjEBO5Ti0+YIySC/spOT7tEMiB+5FDPiOaedrp4ks+H81I1B96Uj7/iJoCVy5XPvOidhorC1w+ivCfumqeYD6XSvlH9YVjPlMVOmwL6mY+K9gk+wsFaz7NVJS3dhFwPjGiWChwVHM++vK9nSKTdz5LLnFN4TN9Ps06jdi+W4I+5/p9zR9Ohz4UoaHgt5mNPjXdm0fHoZI+rw6x3KgYlz4rdmOyeBycPtFLFeqpy6A+7PtKF0u7oz6z0qkRe9emPnTwKy3nIKo+OLHqt7qfrT4UWkR6u7CwPlt4s1ahurI+kkKuYVX1tD5c3dz/ymm3Ps9ZjV0uIro+aatQU9glvT7S438SwTjAPnFw7sOW+ME+Mzp4QSrBwz7+GkHycX/FPpmQ2bBeJMc+Lng65uWlyD7uVz13D/vJPlvt8gt+GMs+j2xCE+nyyz748Wk/q4bMPktE7B7N3cw+1PlKMwQPzT7KMyY5KTbNPnIYdh3kas0+qLTR7Xq5zT513Q4L0h7OPoKKZL/Wh84+s2Ff37vVzj6w5xDdN+jOPjMgsldOq84+gt+fhpIhzj6RvVRsOWPNPh2Ci9ckkMw+6a7P7/m7yz5/+xC0leDKPiFFgAQv4Mk+ULg0dbKWyD7bUbdtEvDGPptqztBK9sQ+++k6wIjPwj6rXt4Nxa7APneZhK9vgL0+U7fyTQA3uj7lL1aj/4C3Ph1hrvSlO7U+f4mkeok3sz6u6CJa+kuxPsZvE0j+wa4+8gmlxWrgqj7l/vxoaQKnPrJnDVhGSqM+Ln7VMKjGnz7OJzHWKOmZPj7bvAtdJZU+/ZVoM3JwkT4N95dE/iSNPkuC5nLVf4g+bVDnin1thD4ByZOX4aOAPgVtVKFCMno+gatgYNzccz7DzxID2DhtPjqHj7+DOmU+mpK0X1gmXz5TPfbp71xXPmK5HrPStlE+kxz73UFWSj5M+QKzeIxCPko4gzu4GDg+nE8ZCxlfLD7pnaFnLPcdPrMN5nW+OQw+PLmo2i+i9z2fT69h+47hPQ==\",\"dtype\":\"float64\",\"order\":\"little\",\"shape\":[200]}},\"selected\":{\"id\":\"2519\"},\"selection_policy\":{\"id\":\"2544\"}},\"id\":\"2518\",\"type\":\"ColumnDataSource\"},{\"attributes\":{},\"id\":\"2506\",\"type\":\"PanTool\"},{\"attributes\":{\"fill_alpha\":0.5,\"fill_color\":\"#30a2da\",\"hatch_alpha\":0.1,\"hatch_color\":\"#30a2da\",\"line_alpha\":1,\"x\":{\"field\":\"x\"},\"y\":{\"field\":\"y\"}},\"id\":\"2522\",\"type\":\"Patch\"},{\"attributes\":{\"axis_label\":\"Density\",\"coordinates\":null,\"formatter\":{\"id\":\"2531\"},\"group\":null,\"major_label_policy\":{\"id\":\"2532\"},\"ticker\":{\"id\":\"2502\"}},\"id\":\"2501\",\"type\":\"LinearAxis\"},{\"attributes\":{},\"id\":\"2519\",\"type\":\"Selection\"},{\"attributes\":{\"axis\":{\"id\":\"2501\"},\"coordinates\":null,\"dimension\":1,\"grid_line_color\":null,\"group\":null,\"ticker\":null},\"id\":\"2504\",\"type\":\"Grid\"},{\"attributes\":{},\"id\":\"2502\",\"type\":\"BasicTicker\"},{\"attributes\":{},\"id\":\"2507\",\"type\":\"WheelZoomTool\"},{\"attributes\":{},\"id\":\"2528\",\"type\":\"BasicTickFormatter\"},{\"attributes\":{\"fill_alpha\":0.2,\"fill_color\":\"#30a2da\",\"hatch_alpha\":0.2,\"hatch_color\":\"#30a2da\",\"line_alpha\":0.2,\"x\":{\"field\":\"x\"},\"y\":{\"field\":\"y\"}},\"id\":\"2523\",\"type\":\"Patch\"},{\"attributes\":{\"fill_alpha\":0.5,\"fill_color\":\"#30a2da\",\"hatch_color\":\"#30a2da\",\"x\":{\"field\":\"x\"},\"y\":{\"field\":\"y\"}},\"id\":\"2521\",\"type\":\"Patch\"},{\"attributes\":{},\"id\":\"2505\",\"type\":\"SaveTool\"},{\"attributes\":{\"source\":{\"id\":\"2518\"}},\"id\":\"2525\",\"type\":\"CDSView\"},{\"attributes\":{\"overlay\":{\"id\":\"2510\"}},\"id\":\"2508\",\"type\":\"BoxZoomTool\"},{\"attributes\":{},\"id\":\"2509\",\"type\":\"ResetTool\"},{\"attributes\":{\"coordinates\":null,\"data_source\":{\"id\":\"2518\"},\"glyph\":{\"id\":\"2521\"},\"group\":null,\"hover_glyph\":null,\"muted_glyph\":{\"id\":\"2523\"},\"nonselection_glyph\":{\"id\":\"2522\"},\"selection_glyph\":{\"id\":\"2526\"},\"view\":{\"id\":\"2525\"}},\"id\":\"2524\",\"type\":\"GlyphRenderer\"},{\"attributes\":{\"bottom_units\":\"screen\",\"coordinates\":null,\"fill_alpha\":0.5,\"fill_color\":\"lightgrey\",\"group\":null,\"left_units\":\"screen\",\"level\":\"overlay\",\"line_alpha\":1.0,\"line_color\":\"black\",\"line_dash\":[4,4],\"line_width\":2,\"right_units\":\"screen\",\"syncable\":false,\"top_units\":\"screen\"},\"id\":\"2510\",\"type\":\"BoxAnnotation\"},{\"attributes\":{\"fill_alpha\":0.5,\"fill_color\":\"#30a2da\",\"hatch_color\":\"#30a2da\",\"x\":{\"field\":\"x\"},\"y\":{\"field\":\"y\"}},\"id\":\"2526\",\"type\":\"Patch\"},{\"attributes\":{},\"id\":\"2544\",\"type\":\"UnionRenderers\"},{\"attributes\":{\"end\":417415.2854807516,\"reset_end\":417415.2854807516,\"reset_start\":-386252.982021406,\"start\":-386252.982021406,\"tags\":[[[\"Error Values\",\"Error Values\",null]]]},\"id\":\"2485\",\"type\":\"Range1d\"},{\"attributes\":{},\"id\":\"2531\",\"type\":\"BasicTickFormatter\"},{\"attributes\":{\"end\":4.052842316894037e-06,\"reset_end\":4.052842316894037e-06,\"reset_start\":0.0,\"tags\":[[[\"Error Values_density\",\"Density\",null]]]},\"id\":\"2486\",\"type\":\"Range1d\"},{\"attributes\":{\"children\":[{\"id\":\"2488\"}],\"height\":300,\"margin\":[0,0,0,0],\"name\":\"Row02574\",\"sizing_mode\":\"fixed\",\"tags\":[\"embedded\"],\"width\":700},\"id\":\"2484\",\"type\":\"Row\"},{\"attributes\":{},\"id\":\"2529\",\"type\":\"AllLabels\"},{\"attributes\":{\"callback\":null,\"renderers\":[{\"id\":\"2524\"}],\"tags\":[\"hv_created\"],\"tooltips\":[[\"Error Values\",\"@{Error_Values}\"],[\"Density\",\"@{Error_Values_density}\"]]},\"id\":\"2487\",\"type\":\"HoverTool\"},{\"attributes\":{},\"id\":\"2493\",\"type\":\"LinearScale\"},{\"attributes\":{\"below\":[{\"id\":\"2497\"}],\"center\":[{\"id\":\"2500\"},{\"id\":\"2504\"}],\"height\":300,\"left\":[{\"id\":\"2501\"}],\"margin\":[5,5,5,5],\"min_border_bottom\":10,\"min_border_left\":10,\"min_border_right\":10,\"min_border_top\":10,\"renderers\":[{\"id\":\"2524\"}],\"sizing_mode\":\"fixed\",\"title\":{\"id\":\"2489\"},\"toolbar\":{\"id\":\"2511\"},\"width\":700,\"x_range\":{\"id\":\"2485\"},\"x_scale\":{\"id\":\"2493\"},\"y_range\":{\"id\":\"2486\"},\"y_scale\":{\"id\":\"2495\"}},\"id\":\"2488\",\"subtype\":\"Figure\",\"type\":\"Plot\"},{\"attributes\":{},\"id\":\"2532\",\"type\":\"AllLabels\"},{\"attributes\":{\"coordinates\":null,\"group\":null,\"text_color\":\"black\",\"text_font_size\":\"12pt\"},\"id\":\"2489\",\"type\":\"Title\"},{\"attributes\":{\"active_drag\":{\"id\":\"2506\"},\"active_scroll\":{\"id\":\"2507\"},\"tools\":[{\"id\":\"2487\"},{\"id\":\"2505\"},{\"id\":\"2506\"},{\"id\":\"2507\"},{\"id\":\"2508\"},{\"id\":\"2509\"}]},\"id\":\"2511\",\"type\":\"Toolbar\"},{\"attributes\":{},\"id\":\"2498\",\"type\":\"BasicTicker\"},{\"attributes\":{\"axis_label\":\"Error Values\",\"coordinates\":null,\"formatter\":{\"id\":\"2528\"},\"group\":null,\"major_label_policy\":{\"id\":\"2529\"},\"ticker\":{\"id\":\"2498\"}},\"id\":\"2497\",\"type\":\"LinearAxis\"},{\"attributes\":{},\"id\":\"2495\",\"type\":\"LinearScale\"}],\"root_ids\":[\"2484\"]},\"title\":\"Bokeh Application\",\"version\":\"2.4.3\"}};\n",
       "    var render_items = [{\"docid\":\"e2fa2a6e-09d0-489f-b871-331dda5b1327\",\"root_ids\":[\"2484\"],\"roots\":{\"2484\":\"e4721ce5-a4bd-49ae-a09f-9676f9f4b1bf\"}}];\n",
       "    root.Bokeh.embed.embed_items_notebook(docs_json, render_items);\n",
       "    for (const render_item of render_items) {\n",
       "      for (const root_id of render_item.root_ids) {\n",
       "\tconst id_el = document.getElementById(root_id)\n",
       "\tif (id_el.children.length && (id_el.children[0].className === 'bk-root')) {\n",
       "\t  const root_el = id_el.children[0]\n",
       "\t  root_el.id = root_el.id + '-rendered'\n",
       "\t}\n",
       "      }\n",
       "    }\n",
       "  }\n",
       "  if (root.Bokeh !== undefined && root.Bokeh.Panel !== undefined) {\n",
       "    embed_document(root);\n",
       "  } else {\n",
       "    var attempts = 0;\n",
       "    var timer = setInterval(function(root) {\n",
       "      if (root.Bokeh !== undefined && root.Bokeh.Panel !== undefined) {\n",
       "        clearInterval(timer);\n",
       "        embed_document(root);\n",
       "      } else if (document.readyState == \"complete\") {\n",
       "        attempts++;\n",
       "        if (attempts > 200) {\n",
       "          clearInterval(timer);\n",
       "          console.log(\"Bokeh: ERROR: Unable to run BokehJS code because BokehJS library is missing\");\n",
       "        }\n",
       "      }\n",
       "    }, 25, root)\n",
       "  }\n",
       "})(window);</script>"
      ],
      "text/plain": [
       ":Distribution   [Error Values]   (Density)"
      ]
     },
     "execution_count": 130,
     "metadata": {
      "application/vnd.holoviews_exec.v0+json": {
       "id": "2484"
      }
     },
     "output_type": "execute_result"
    }
   ],
   "source": [
    "pd.DataFrame({'Error Values': (y_test - pred)}).hvplot.kde()"
   ]
  },
  {
   "cell_type": "markdown",
   "id": "795fa9ef-17a6-40bf-ba03-d1bcce52e96c",
   "metadata": {},
   "source": [
    "## ✔️ Regression Evaluation Metrics\n",
    "\n",
    "\n",
    "Here are three common evaluation metrics for regression problems:\n",
    "\n",
    "> - **Mean Absolute Error** (MAE) is the mean of the absolute value of the errors:\n",
    "$$\\frac 1n\\sum_{i=1}^n|y_i-\\hat{y}_i|$$\n",
    "\n",
    "> - **Mean Squared Error** (MSE) is the mean of the squared errors:\n",
    "$$\\frac 1n\\sum_{i=1}^n(y_i-\\hat{y}_i)^2$$\n",
    "\n",
    "> - **Root Mean Squared Error** (RMSE) is the square root of the mean of the squared errors:\n",
    "$$\\sqrt{\\frac 1n\\sum_{i=1}^n(y_i-\\hat{y}_i)^2}$$\n",
    "\n",
    "> 📌 Comparing these metrics:\n",
    "- **MAE** is the easiest to understand, because it's the average error.\n",
    "- **MSE** is more popular than MAE, because MSE \"punishes\" larger errors, which tends to be useful in the real world.\n",
    "- **RMSE** is even more popular than MSE, because RMSE is interpretable in the \"y\" units.\n",
    "\n",
    "> All of these are **loss functions**, because we want to minimize them."
   ]
  },
  {
   "cell_type": "code",
   "execution_count": 131,
   "id": "bda46da8-d8be-4424-9b4c-f174dcc816cb",
   "metadata": {},
   "outputs": [
    {
     "name": "stdout",
     "output_type": "stream",
     "text": [
      "Test set evaluation:\n",
      "_____________________________________\n",
      "MAE: 81135.56609336878\n",
      "MSE: 10068422551.40088\n",
      "RMSE: 100341.52954485436\n",
      "R2 Square 0.9146818498754016\n",
      "__________________________________\n",
      "Train set evaluation:\n",
      "_____________________________________\n",
      "MAE: 81480.49973174892\n",
      "MSE: 10287043161.197224\n",
      "RMSE: 101425.06180031257\n",
      "R2 Square 0.9192986579075526\n",
      "__________________________________\n"
     ]
    }
   ],
   "source": [
    "test_pred = lin_reg.predict(X_test)\n",
    "train_pred = lin_reg.predict(X_train)\n",
    "\n",
    "print('Test set evaluation:\\n_____________________________________')\n",
    "print_evaluate(y_test, test_pred)\n",
    "print('Train set evaluation:\\n_____________________________________')\n",
    "print_evaluate(y_train, train_pred)\n",
    "\n",
    "results_df = pd.DataFrame(data=[[\"Linear Regression\", *evaluate(y_test, test_pred) , cross_val(LinearRegression())]], columns=['Model', 'MAE', 'MSE', 'RMSE', 'R2 Square', \"Cross Validation\"]) "
   ]
  },
  {
   "cell_type": "markdown",
   "id": "de62ce61-63e2-464f-8e95-25cd5aa57741",
   "metadata": {},
   "source": [
    "# ✔️ Ridge Regression\n",
    "\n",
    "> Source: [scikit-learn](http://scikit-learn.org/stable/modules/linear_model.html#ridge-regression)\n",
    "\n",
    "> Ridge regression addresses some of the problems of **Ordinary Least Squares** by imposing a penalty on the size of coefficients. The ridge coefficients minimize a penalized residual sum of squares,\n",
    "\n",
    "$$\\min_{w}\\big|\\big|t-Xw\\big|\\big|^2_2+\\lambda_1\\big|\\big|w\\big|\\big|^2_2$$\n",
    "\n",
    "> $\\lambda_1>=0$ is a complexity parameter that controls the amount of shrinkage: the larger the value of $\\alpha$, the greater the amount of shrinkage and thus the coefficients become more robust to collinearity.\n",
    "\n",
    "> Ridge regression is an $L_2$ penalized model. Add the squared sum of the weights to the least-squares cost function.\n",
    "***"
   ]
  },
  {
   "cell_type": "code",
   "execution_count": 139,
   "id": "c73ab58a-7d8e-4c3e-8c07-296b995632d8",
   "metadata": {},
   "outputs": [
    {
     "name": "stdout",
     "output_type": "stream",
     "text": [
      "Test set evaluation:\n",
      "_____________________________________\n",
      "MAE: 81428.64835535336\n",
      "MSE: 10153269900.892609\n",
      "RMSE: 100763.43533689494\n",
      "R2 Square 0.9139628674464607\n",
      "__________________________________\n",
      "====================================\n",
      "Train set evaluation:\n",
      "_____________________________________\n",
      "MAE: 81972.39058585509\n",
      "MSE: 10382929615.14346\n",
      "RMSE: 101896.66145239233\n",
      "R2 Square 0.9185464334441484\n",
      "__________________________________\n"
     ]
    }
   ],
   "source": [
    "from sklearn.linear_model import Ridge\n",
    "\n",
    "model = Ridge(alpha=100, solver='cholesky', tol=0.0001, random_state=42)\n",
    "model.fit(X_train, y_train)\n",
    "pred = model.predict(X_test)\n",
    "\n",
    "test_pred = model.predict(X_test)\n",
    "train_pred = model.predict(X_train)\n",
    "\n",
    "print('Test set evaluation:\\n_____________________________________')\n",
    "print_evaluate(y_test, test_pred)\n",
    "print('====================================')\n",
    "print('Train set evaluation:\\n_____________________________________')\n",
    "print_evaluate(y_train, train_pred)\n",
    "\n",
    "results_df_2 = pd.DataFrame(data=[[\"Ridge Regression\", *evaluate(y_test, test_pred) , cross_val(Ridge())]], \n",
    "                            columns=['Model', 'MAE', 'MSE', 'RMSE', 'R2 Square', \"Cross Validation\"])\n",
    "results_df = results_df.append(results_df_2, ignore_index=True)"
   ]
  },
  {
   "cell_type": "code",
   "execution_count": 142,
   "id": "7c6d72ce-dd17-4707-a384-399237e381f7",
   "metadata": {},
   "outputs": [],
   "source": [
    "## Residuals"
   ]
  },
  {
   "cell_type": "code",
   "execution_count": 148,
   "id": "bacfccb5-e427-4bc6-84f3-7bd216cdee16",
   "metadata": {},
   "outputs": [
    {
     "data": {},
     "metadata": {},
     "output_type": "display_data"
    },
    {
     "data": {
      "application/vnd.holoviews_exec.v0+json": "",
      "text/html": [
       "<div id='3282'>\n",
       "  <div class=\"bk-root\" id=\"4d22274d-1697-4501-b0d1-9c28c270d58d\" data-root-id=\"3282\"></div>\n",
       "</div>\n",
       "<script type=\"application/javascript\">(function(root) {\n",
       "  function embed_document(root) {\n",
       "    var docs_json = {\"18bd7b0a-e7a2-4a53-91e2-5d1bf1872d25\":{\"defs\":[{\"extends\":null,\"module\":null,\"name\":\"ReactiveHTML1\",\"overrides\":[],\"properties\":[]},{\"extends\":null,\"module\":null,\"name\":\"FlexBox1\",\"overrides\":[],\"properties\":[{\"default\":\"flex-start\",\"kind\":null,\"name\":\"align_content\"},{\"default\":\"flex-start\",\"kind\":null,\"name\":\"align_items\"},{\"default\":\"row\",\"kind\":null,\"name\":\"flex_direction\"},{\"default\":\"wrap\",\"kind\":null,\"name\":\"flex_wrap\"},{\"default\":\"flex-start\",\"kind\":null,\"name\":\"justify_content\"}]},{\"extends\":null,\"module\":null,\"name\":\"GridStack1\",\"overrides\":[],\"properties\":[{\"default\":\"warn\",\"kind\":null,\"name\":\"mode\"},{\"default\":null,\"kind\":null,\"name\":\"ncols\"},{\"default\":null,\"kind\":null,\"name\":\"nrows\"},{\"default\":true,\"kind\":null,\"name\":\"allow_resize\"},{\"default\":true,\"kind\":null,\"name\":\"allow_drag\"},{\"default\":[],\"kind\":null,\"name\":\"state\"}]},{\"extends\":null,\"module\":null,\"name\":\"click1\",\"overrides\":[],\"properties\":[{\"default\":\"\",\"kind\":null,\"name\":\"terminal_output\"},{\"default\":\"\",\"kind\":null,\"name\":\"debug_name\"},{\"default\":0,\"kind\":null,\"name\":\"clears\"}]},{\"extends\":null,\"module\":null,\"name\":\"NotificationAreaBase1\",\"overrides\":[],\"properties\":[{\"default\":\"bottom-right\",\"kind\":null,\"name\":\"position\"},{\"default\":0,\"kind\":null,\"name\":\"_clear\"}]},{\"extends\":null,\"module\":null,\"name\":\"NotificationArea1\",\"overrides\":[],\"properties\":[{\"default\":[],\"kind\":null,\"name\":\"notifications\"},{\"default\":\"bottom-right\",\"kind\":null,\"name\":\"position\"},{\"default\":0,\"kind\":null,\"name\":\"_clear\"},{\"default\":[{\"background\":\"#ffc107\",\"icon\":{\"className\":\"fas fa-exclamation-triangle\",\"color\":\"white\",\"tagName\":\"i\"},\"type\":\"warning\"},{\"background\":\"#007bff\",\"icon\":{\"className\":\"fas fa-info-circle\",\"color\":\"white\",\"tagName\":\"i\"},\"type\":\"info\"}],\"kind\":null,\"name\":\"types\"}]},{\"extends\":null,\"module\":null,\"name\":\"Notification\",\"overrides\":[],\"properties\":[{\"default\":null,\"kind\":null,\"name\":\"background\"},{\"default\":3000,\"kind\":null,\"name\":\"duration\"},{\"default\":null,\"kind\":null,\"name\":\"icon\"},{\"default\":\"\",\"kind\":null,\"name\":\"message\"},{\"default\":null,\"kind\":null,\"name\":\"notification_type\"},{\"default\":false,\"kind\":null,\"name\":\"_destroyed\"}]},{\"extends\":null,\"module\":null,\"name\":\"TemplateActions1\",\"overrides\":[],\"properties\":[{\"default\":0,\"kind\":null,\"name\":\"open_modal\"},{\"default\":0,\"kind\":null,\"name\":\"close_modal\"}]},{\"extends\":null,\"module\":null,\"name\":\"MaterialTemplateActions1\",\"overrides\":[],\"properties\":[{\"default\":0,\"kind\":null,\"name\":\"open_modal\"},{\"default\":0,\"kind\":null,\"name\":\"close_modal\"}]}],\"roots\":{\"references\":[{\"attributes\":{\"end\":4.166487119936112e-06,\"reset_end\":4.166487119936112e-06,\"reset_start\":0.0,\"tags\":[[[\"Error Values_density\",\"Density\",null]]]},\"id\":\"3284\",\"type\":\"Range1d\"},{\"attributes\":{},\"id\":\"3342\",\"type\":\"UnionRenderers\"},{\"attributes\":{},\"id\":\"3291\",\"type\":\"LinearScale\"},{\"attributes\":{\"below\":[{\"id\":\"3295\"}],\"center\":[{\"id\":\"3298\"},{\"id\":\"3302\"}],\"height\":300,\"left\":[{\"id\":\"3299\"}],\"margin\":[5,5,5,5],\"min_border_bottom\":10,\"min_border_left\":10,\"min_border_right\":10,\"min_border_top\":10,\"renderers\":[{\"id\":\"3322\"}],\"sizing_mode\":\"fixed\",\"title\":{\"id\":\"3287\"},\"toolbar\":{\"id\":\"3309\"},\"width\":700,\"x_range\":{\"id\":\"3283\"},\"x_scale\":{\"id\":\"3291\"},\"y_range\":{\"id\":\"3284\"},\"y_scale\":{\"id\":\"3293\"}},\"id\":\"3286\",\"subtype\":\"Figure\",\"type\":\"Plot\"},{\"attributes\":{\"coordinates\":null,\"group\":null,\"text_color\":\"black\",\"text_font_size\":\"12pt\"},\"id\":\"3287\",\"type\":\"Title\"},{\"attributes\":{},\"id\":\"3330\",\"type\":\"AllLabels\"},{\"attributes\":{},\"id\":\"3296\",\"type\":\"BasicTicker\"},{\"attributes\":{\"fill_alpha\":0.2,\"fill_color\":\"#30a2da\",\"hatch_alpha\":0.2,\"hatch_color\":\"#30a2da\",\"line_alpha\":0.2,\"x\":{\"field\":\"x\"},\"y\":{\"field\":\"y\"}},\"id\":\"3321\",\"type\":\"Patch\"},{\"attributes\":{\"axis_label\":\"Error Values\",\"coordinates\":null,\"formatter\":{\"id\":\"3326\"},\"group\":null,\"major_label_policy\":{\"id\":\"3327\"},\"ticker\":{\"id\":\"3296\"}},\"id\":\"3295\",\"type\":\"LinearAxis\"},{\"attributes\":{},\"id\":\"3293\",\"type\":\"LinearScale\"},{\"attributes\":{\"axis\":{\"id\":\"3295\"},\"coordinates\":null,\"grid_line_color\":null,\"group\":null,\"ticker\":null},\"id\":\"3298\",\"type\":\"Grid\"},{\"attributes\":{\"data\":{\"x\":{\"__ndarray__\":\"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\",\"dtype\":\"float64\",\"order\":\"little\",\"shape\":[200]},\"y\":{\"__ndarray__\":\"AAAAAAAAAAAAAAAAAAAAAAAAAAAAAAAAAAAAAAAAAAAAAAAAAAAAAAAAAAAAAAAAAAAAAAAAAAAAAAAAAAAAAAAAAAAAAAAAAAAAAAAAAAAAAAAAAAAAAAAAAAAAAAAAAAAAAAAAAAAAAAAAAAAAAAAAAAAAAAAAAAAAAAAAAAAAAAAAAAAAAAAAAAAAAAAAAAAAAAAAAAAAAAAAAAAAAAAAAAAAAAAAAAAAAAAAAAAAAAAAAAAAAAAAAAAAAAAAAAAAAAAAAAAAAAAAAAAAAAAAAAAAAAAAAAAAAAAAAAAAAAAAAAAAAAAAAAAAAAAAAAAAAAAAAAAAAAAAAAAAAAAAAAAAAAAAAAAAAAAAAAAAAAAAAAAAAAAAAAAAAAAAAAAAAAAAAAAAAAAAAAAAAAAAAAAAAAAAAAAAAAAAAAAAAAAAAAAAAAAAAAAAAAAAAAAAAAAAAAAAAAAAAAAAAAAAAAAAAAAAAAAAAAAAAAAAAAAAAAAAAAAAAAAAAAAAAAAAAAAAAAAAAAAAAAAAAAAAAAAAAAAAAAAAAAAAAAAAAAAAAAAAAAAAAAAAAAAAAAAAAAAAAAAAAAAAAAAAAAAAAAAAAAAAAAAAAAAAAAAAAAAAAAAAAAAAAAAAAAAAAAAAAAAAAAAAAAAAAAAAAAAAAAAAAAAAAAAAAAAAAAAAAAAAAAAAAAAAAAAAAAAAAAAAAAAAAAAAAAAAAAAAAAAAAAAAAAAAAAAAAAAAAAAAAAAAAAAAAAAAAAAAAAAAAAAAAAAAAAAAAAAAAAAAAAAAAAAAAAAAAAAAAAAAAAAAAAAAAAAAAAAAAAAAAAAAAAAAAAAAAAAAAAAAAAAAAAAAAAAAAAAAAAAAAAAAAAAAAAAAAAAAAAAAAAAAAAAAAAAAAAAAAAAAAAAAAAAAAAAAAAAAAAAAAAAAAAAAAAAAAAAAAAAAAAAAAAAAAAAAAAAAAAAAAAAAAAAAAAAAAAAAAAAAAAAAAAAAAAAAAAAAAAAAAAAAAAAAAAAAAAAAAAAAAAAAAAAAAAAAAAAAAAAAAAAAAAAAAAAAAAAAAAD5ZC+3jITRPYfIQdyn/+s9rS2/pbTgAj6KrejU2oYVPu/WsH3y2SQ+wQSBHLNNMT7eLeliRP84PuYRuy4nJkA+IyXIIRdtQz5rHW57bcNGPiC8+iuK2ko+FMkbQCAnUD6S9Zam+fhTPsaQrPEez1k+FT01WOirYT52xL39G2VpPphXR+rdi3I+Qkye+CCXej6w+dGthEGCPrdLV0oGvoc+GmUxr49PjT61ImA+cm6RPmw1J2XQcpQ+r/yQ4Q4vmD4QNYDCOxidPnT/N5v4r6E+LP0f3xtxpT6u+c8ZNZ+pPl5xDun//a0+BUXapQgrsT7m75BWkESzPkAEzce8U7U+zk47Nb54tz5SwnA+Idq5PhFKyp4Rirw+S2d/c5N5vz6lzjNKJEPBPvdxoX+rysI+Gmb+MHpQxD7jyLlnetbFPqu7d/njWMc+J5cvwEHLyD4U3Bu9GSDKPiBQ7k/nUss+flP7tJdqzD5s1wtOVnHNPhYbHLMSZs4+YhqxxX8yzz4+QcAzWbHPPrIiZdYRxs8+WvumnYF1zz4/+gVs0OjOPsH1vntnVM4+Ld/G0RnXzT7FcuVeNG3NPlrfw+ut/cw+gpjOQK1uzD544ob1DK/LPrvRm6r/tco+f+PIulODyT6fx6fJZiHIPgT/PcpVocY+nvhxFugQxT52w2KD6nTDPg6uqt0b0ME+XAZZe3kvwD4ddgOt71a9Pk8LtEwBsLo+P+yxzgdjuD5QdCVnCDi2PvQL0kHf77M+xFTGVbh0sT44iX8Mxs6tPu8FFpp8B6k+OOoFDInypD5qTIY5lKuhPjos1wwcJZ4+ExYA6IXamT43N1WDQQ6WPu4JhTtwhJI+qr+GwdNkjj5U5NFs51uIPlg77G5qKIM+S6vLkmHYfT6ZQOjjlkl3PgXF4gYwanI+OHpGJ2jKbT4CvDoim7hoPvcRiiJG52Q+nZJ7Jw64YT746xOQ/W5dPuzfurd0Wlc+hsTg2IdGUT6PVRmuhlVHPsraqm+cSDw+F2moQbJXLj43V0VAJ30cPhQ2ayu+Mgc+5TvVZ29D8D2roFls94TTPQ==\",\"dtype\":\"float64\",\"order\":\"little\",\"shape\":[200]}},\"selected\":{\"id\":\"3317\"},\"selection_policy\":{\"id\":\"3342\"}},\"id\":\"3316\",\"type\":\"ColumnDataSource\"},{\"attributes\":{},\"id\":\"3304\",\"type\":\"PanTool\"},{\"attributes\":{\"fill_alpha\":0.5,\"fill_color\":\"#30a2da\",\"hatch_alpha\":0.1,\"hatch_color\":\"#30a2da\",\"line_alpha\":1,\"x\":{\"field\":\"x\"},\"y\":{\"field\":\"y\"}},\"id\":\"3320\",\"type\":\"Patch\"},{\"attributes\":{\"axis_label\":\"Density\",\"coordinates\":null,\"formatter\":{\"id\":\"3329\"},\"group\":null,\"major_label_policy\":{\"id\":\"3330\"},\"ticker\":{\"id\":\"3300\"}},\"id\":\"3299\",\"type\":\"LinearAxis\"},{\"attributes\":{\"axis\":{\"id\":\"3299\"},\"coordinates\":null,\"dimension\":1,\"grid_line_color\":null,\"group\":null,\"ticker\":null},\"id\":\"3302\",\"type\":\"Grid\"},{\"attributes\":{},\"id\":\"3326\",\"type\":\"BasicTickFormatter\"},{\"attributes\":{},\"id\":\"3300\",\"type\":\"BasicTicker\"},{\"attributes\":{},\"id\":\"3305\",\"type\":\"WheelZoomTool\"},{\"attributes\":{},\"id\":\"3317\",\"type\":\"Selection\"},{\"attributes\":{\"fill_alpha\":0.5,\"fill_color\":\"#30a2da\",\"hatch_color\":\"#30a2da\",\"x\":{\"field\":\"x\"},\"y\":{\"field\":\"y\"}},\"id\":\"3319\",\"type\":\"Patch\"},{\"attributes\":{\"children\":[{\"id\":\"3286\"}],\"height\":300,\"margin\":[0,0,0,0],\"name\":\"Row03687\",\"sizing_mode\":\"fixed\",\"tags\":[\"embedded\"],\"width\":700},\"id\":\"3282\",\"type\":\"Row\"},{\"attributes\":{},\"id\":\"3303\",\"type\":\"SaveTool\"},{\"attributes\":{},\"id\":\"3327\",\"type\":\"AllLabels\"},{\"attributes\":{\"source\":{\"id\":\"3316\"}},\"id\":\"3323\",\"type\":\"CDSView\"},{\"attributes\":{\"overlay\":{\"id\":\"3308\"}},\"id\":\"3306\",\"type\":\"BoxZoomTool\"},{\"attributes\":{},\"id\":\"3307\",\"type\":\"ResetTool\"},{\"attributes\":{\"coordinates\":null,\"data_source\":{\"id\":\"3316\"},\"glyph\":{\"id\":\"3319\"},\"group\":null,\"hover_glyph\":null,\"muted_glyph\":{\"id\":\"3321\"},\"nonselection_glyph\":{\"id\":\"3320\"},\"selection_glyph\":{\"id\":\"3324\"},\"view\":{\"id\":\"3323\"}},\"id\":\"3322\",\"type\":\"GlyphRenderer\"},{\"attributes\":{\"bottom_units\":\"screen\",\"coordinates\":null,\"fill_alpha\":0.5,\"fill_color\":\"lightgrey\",\"group\":null,\"left_units\":\"screen\",\"level\":\"overlay\",\"line_alpha\":1.0,\"line_color\":\"black\",\"line_dash\":[4,4],\"line_width\":2,\"right_units\":\"screen\",\"syncable\":false,\"top_units\":\"screen\"},\"id\":\"3308\",\"type\":\"BoxAnnotation\"},{\"attributes\":{\"fill_alpha\":0.5,\"fill_color\":\"#30a2da\",\"hatch_color\":\"#30a2da\",\"x\":{\"field\":\"x\"},\"y\":{\"field\":\"y\"}},\"id\":\"3324\",\"type\":\"Patch\"},{\"attributes\":{\"active_drag\":{\"id\":\"3304\"},\"active_scroll\":{\"id\":\"3305\"},\"tools\":[{\"id\":\"3285\"},{\"id\":\"3303\"},{\"id\":\"3304\"},{\"id\":\"3305\"},{\"id\":\"3306\"},{\"id\":\"3307\"}]},\"id\":\"3309\",\"type\":\"Toolbar\"},{\"attributes\":{\"callback\":null,\"renderers\":[{\"id\":\"3322\"}],\"tags\":[\"hv_created\"],\"tooltips\":[[\"Error Values\",\"@{Error_Values}\"],[\"Density\",\"@{Error_Values_density}\"]]},\"id\":\"3285\",\"type\":\"HoverTool\"},{\"attributes\":{},\"id\":\"3329\",\"type\":\"BasicTickFormatter\"},{\"attributes\":{\"end\":414959.6289177657,\"reset_end\":414959.6289177657,\"reset_start\":-404120.2866541748,\"start\":-404120.2866541748,\"tags\":[[[\"Error Values\",\"Error Values\",null]]]},\"id\":\"3283\",\"type\":\"Range1d\"}],\"root_ids\":[\"3282\"]},\"title\":\"Bokeh Application\",\"version\":\"2.4.3\"}};\n",
       "    var render_items = [{\"docid\":\"18bd7b0a-e7a2-4a53-91e2-5d1bf1872d25\",\"root_ids\":[\"3282\"],\"roots\":{\"3282\":\"4d22274d-1697-4501-b0d1-9c28c270d58d\"}}];\n",
       "    root.Bokeh.embed.embed_items_notebook(docs_json, render_items);\n",
       "    for (const render_item of render_items) {\n",
       "      for (const root_id of render_item.root_ids) {\n",
       "\tconst id_el = document.getElementById(root_id)\n",
       "\tif (id_el.children.length && (id_el.children[0].className === 'bk-root')) {\n",
       "\t  const root_el = id_el.children[0]\n",
       "\t  root_el.id = root_el.id + '-rendered'\n",
       "\t}\n",
       "      }\n",
       "    }\n",
       "  }\n",
       "  if (root.Bokeh !== undefined && root.Bokeh.Panel !== undefined) {\n",
       "    embed_document(root);\n",
       "  } else {\n",
       "    var attempts = 0;\n",
       "    var timer = setInterval(function(root) {\n",
       "      if (root.Bokeh !== undefined && root.Bokeh.Panel !== undefined) {\n",
       "        clearInterval(timer);\n",
       "        embed_document(root);\n",
       "      } else if (document.readyState == \"complete\") {\n",
       "        attempts++;\n",
       "        if (attempts > 200) {\n",
       "          clearInterval(timer);\n",
       "          console.log(\"Bokeh: ERROR: Unable to run BokehJS code because BokehJS library is missing\");\n",
       "        }\n",
       "      }\n",
       "    }, 25, root)\n",
       "  }\n",
       "})(window);</script>"
      ],
      "text/plain": [
       ":Distribution   [Error Values]   (Density)"
      ]
     },
     "execution_count": 148,
     "metadata": {
      "application/vnd.holoviews_exec.v0+json": {
       "id": "3282"
      }
     },
     "output_type": "execute_result"
    }
   ],
   "source": [
    "pd.DataFrame({'Error Values': (y_train - train_pred)}).hvplot.kde()"
   ]
  },
  {
   "cell_type": "code",
   "execution_count": 147,
   "id": "0d964a02-17a4-4d4e-a2d8-a411d48e19b4",
   "metadata": {},
   "outputs": [
    {
     "data": {},
     "metadata": {},
     "output_type": "display_data"
    },
    {
     "data": {
      "application/vnd.holoviews_exec.v0+json": "",
      "text/html": [
       "<div id='3168'>\n",
       "  <div class=\"bk-root\" id=\"5e2b481b-1d12-4693-a3c6-2145d7e32301\" data-root-id=\"3168\"></div>\n",
       "</div>\n",
       "<script type=\"application/javascript\">(function(root) {\n",
       "  function embed_document(root) {\n",
       "    var docs_json = {\"eff80f18-6ee1-46b3-8e57-b94adcd368dc\":{\"defs\":[{\"extends\":null,\"module\":null,\"name\":\"ReactiveHTML1\",\"overrides\":[],\"properties\":[]},{\"extends\":null,\"module\":null,\"name\":\"FlexBox1\",\"overrides\":[],\"properties\":[{\"default\":\"flex-start\",\"kind\":null,\"name\":\"align_content\"},{\"default\":\"flex-start\",\"kind\":null,\"name\":\"align_items\"},{\"default\":\"row\",\"kind\":null,\"name\":\"flex_direction\"},{\"default\":\"wrap\",\"kind\":null,\"name\":\"flex_wrap\"},{\"default\":\"flex-start\",\"kind\":null,\"name\":\"justify_content\"}]},{\"extends\":null,\"module\":null,\"name\":\"GridStack1\",\"overrides\":[],\"properties\":[{\"default\":\"warn\",\"kind\":null,\"name\":\"mode\"},{\"default\":null,\"kind\":null,\"name\":\"ncols\"},{\"default\":null,\"kind\":null,\"name\":\"nrows\"},{\"default\":true,\"kind\":null,\"name\":\"allow_resize\"},{\"default\":true,\"kind\":null,\"name\":\"allow_drag\"},{\"default\":[],\"kind\":null,\"name\":\"state\"}]},{\"extends\":null,\"module\":null,\"name\":\"click1\",\"overrides\":[],\"properties\":[{\"default\":\"\",\"kind\":null,\"name\":\"terminal_output\"},{\"default\":\"\",\"kind\":null,\"name\":\"debug_name\"},{\"default\":0,\"kind\":null,\"name\":\"clears\"}]},{\"extends\":null,\"module\":null,\"name\":\"NotificationAreaBase1\",\"overrides\":[],\"properties\":[{\"default\":\"bottom-right\",\"kind\":null,\"name\":\"position\"},{\"default\":0,\"kind\":null,\"name\":\"_clear\"}]},{\"extends\":null,\"module\":null,\"name\":\"NotificationArea1\",\"overrides\":[],\"properties\":[{\"default\":[],\"kind\":null,\"name\":\"notifications\"},{\"default\":\"bottom-right\",\"kind\":null,\"name\":\"position\"},{\"default\":0,\"kind\":null,\"name\":\"_clear\"},{\"default\":[{\"background\":\"#ffc107\",\"icon\":{\"className\":\"fas fa-exclamation-triangle\",\"color\":\"white\",\"tagName\":\"i\"},\"type\":\"warning\"},{\"background\":\"#007bff\",\"icon\":{\"className\":\"fas fa-info-circle\",\"color\":\"white\",\"tagName\":\"i\"},\"type\":\"info\"}],\"kind\":null,\"name\":\"types\"}]},{\"extends\":null,\"module\":null,\"name\":\"Notification\",\"overrides\":[],\"properties\":[{\"default\":null,\"kind\":null,\"name\":\"background\"},{\"default\":3000,\"kind\":null,\"name\":\"duration\"},{\"default\":null,\"kind\":null,\"name\":\"icon\"},{\"default\":\"\",\"kind\":null,\"name\":\"message\"},{\"default\":null,\"kind\":null,\"name\":\"notification_type\"},{\"default\":false,\"kind\":null,\"name\":\"_destroyed\"}]},{\"extends\":null,\"module\":null,\"name\":\"TemplateActions1\",\"overrides\":[],\"properties\":[{\"default\":0,\"kind\":null,\"name\":\"open_modal\"},{\"default\":0,\"kind\":null,\"name\":\"close_modal\"}]},{\"extends\":null,\"module\":null,\"name\":\"MaterialTemplateActions1\",\"overrides\":[],\"properties\":[{\"default\":0,\"kind\":null,\"name\":\"open_modal\"},{\"default\":0,\"kind\":null,\"name\":\"close_modal\"}]}],\"roots\":{\"references\":[{\"attributes\":{\"end\":408737.4565390352,\"reset_end\":408737.4565390352,\"reset_start\":-371276.403861995,\"start\":-371276.403861995,\"tags\":[[[\"Error Values\",\"Error Values\",null]]]},\"id\":\"3169\",\"type\":\"Range1d\"},{\"attributes\":{},\"id\":\"3216\",\"type\":\"AllLabels\"},{\"attributes\":{\"callback\":null,\"renderers\":[{\"id\":\"3208\"}],\"tags\":[\"hv_created\"],\"tooltips\":[[\"Error Values\",\"@{Error_Values}\"],[\"Density\",\"@{Error_Values_density}\"]]},\"id\":\"3171\",\"type\":\"HoverTool\"},{\"attributes\":{},\"id\":\"3177\",\"type\":\"LinearScale\"},{\"attributes\":{},\"id\":\"3228\",\"type\":\"UnionRenderers\"},{\"attributes\":{\"end\":4.0102354874841935e-06,\"reset_end\":4.0102354874841935e-06,\"reset_start\":0.0,\"tags\":[[[\"Error Values_density\",\"Density\",null]]]},\"id\":\"3170\",\"type\":\"Range1d\"},{\"attributes\":{\"bottom_units\":\"screen\",\"coordinates\":null,\"fill_alpha\":0.5,\"fill_color\":\"lightgrey\",\"group\":null,\"left_units\":\"screen\",\"level\":\"overlay\",\"line_alpha\":1.0,\"line_color\":\"black\",\"line_dash\":[4,4],\"line_width\":2,\"right_units\":\"screen\",\"syncable\":false,\"top_units\":\"screen\"},\"id\":\"3194\",\"type\":\"BoxAnnotation\"},{\"attributes\":{\"below\":[{\"id\":\"3181\"}],\"center\":[{\"id\":\"3184\"},{\"id\":\"3188\"}],\"height\":300,\"left\":[{\"id\":\"3185\"}],\"margin\":[5,5,5,5],\"min_border_bottom\":10,\"min_border_left\":10,\"min_border_right\":10,\"min_border_top\":10,\"renderers\":[{\"id\":\"3208\"}],\"sizing_mode\":\"fixed\",\"title\":{\"id\":\"3173\"},\"toolbar\":{\"id\":\"3195\"},\"width\":700,\"x_range\":{\"id\":\"3169\"},\"x_scale\":{\"id\":\"3177\"},\"y_range\":{\"id\":\"3170\"},\"y_scale\":{\"id\":\"3179\"}},\"id\":\"3172\",\"subtype\":\"Figure\",\"type\":\"Plot\"},{\"attributes\":{\"fill_alpha\":0.5,\"fill_color\":\"#30a2da\",\"hatch_alpha\":0.1,\"hatch_color\":\"#30a2da\",\"line_alpha\":1,\"x\":{\"field\":\"x\"},\"y\":{\"field\":\"y\"}},\"id\":\"3206\",\"type\":\"Patch\"},{\"attributes\":{\"coordinates\":null,\"group\":null,\"text_color\":\"black\",\"text_font_size\":\"12pt\"},\"id\":\"3173\",\"type\":\"Title\"},{\"attributes\":{},\"id\":\"3182\",\"type\":\"BasicTicker\"},{\"attributes\":{\"axis_label\":\"Error Values\",\"coordinates\":null,\"formatter\":{\"id\":\"3212\"},\"group\":null,\"major_label_policy\":{\"id\":\"3213\"},\"ticker\":{\"id\":\"3182\"}},\"id\":\"3181\",\"type\":\"LinearAxis\"},{\"attributes\":{},\"id\":\"3179\",\"type\":\"LinearScale\"},{\"attributes\":{\"axis\":{\"id\":\"3181\"},\"coordinates\":null,\"grid_line_color\":null,\"group\":null,\"ticker\":null},\"id\":\"3184\",\"type\":\"Grid\"},{\"attributes\":{\"active_drag\":{\"id\":\"3190\"},\"active_scroll\":{\"id\":\"3191\"},\"tools\":[{\"id\":\"3171\"},{\"id\":\"3189\"},{\"id\":\"3190\"},{\"id\":\"3191\"},{\"id\":\"3192\"},{\"id\":\"3193\"}]},\"id\":\"3195\",\"type\":\"Toolbar\"},{\"attributes\":{\"data\":{\"x\":{\"__ndarray__\":\"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\",\"dtype\":\"float64\",\"order\":\"little\",\"shape\":[200]},\"y\":{\"__ndarray__\":\"AAAAAAAAAAAAAAAAAAAAAAAAAAAAAAAAAAAAAAAAAAAAAAAAAAAAAAAAAAAAAAAAAAAAAAAAAAAAAAAAAAAAAAAAAAAAAAAAAAAAAAAAAAAAAAAAAAAAAAAAAAAAAAAAAAAAAAAAAAAAAAAAAAAAAAAAAAAAAAAAAAAAAAAAAAAAAAAAAAAAAAAAAAAAAAAAAAAAAAAAAAAAAAAAAAAAAAAAAAAAAAAAAAAAAAAAAAAAAAAAAAAAAAAAAAAAAAAAAAAAAAAAAAAAAAAAAAAAAAAAAAAAAAAAAAAAAAAAAAAAAAAAAAAAAAAAAAAAAAAAAAAAAAAAAAAAAAAAAAAAAAAAAAAAAAAAAAAAAAAAAAAAAAAAAAAAAAAAAAAAAAAAAAAAAAAAAAAAAAAAAAAAAAAAAAAAAAAAAAAAAAAAAAAAAAAAAAAAAAAAAAAAAAAAAAAAAAAAAAAAAAAAAAAAAAAAAAAAAAAAAAAAAAAAAAAAAAAAAAAAAAAAAAAAAAAAAAAAAAAAAAAAAAAAAAAAAAAAAAAAAAAAAAAAAAAAAAAAAAAAAAAAAAAAAAAAAAAAAAAAAAAAAAAAAAAAAAAAAAAAAAAAAAAAAAAAAAAAAAAAAAAAAAAAAAAAAAAAAAAAAAAAAAAAAAAAAAAAAAAAAAAAAAAAAAAAAAAAAAAAAAAAAAAAAAAAAAAAAAAAAAAAAAAAAAAAAAAAAAAAAAAAAAAAAAAAAAAAAAAAAAAAAAAAAAAAAAAAAAAAAAAAAAAAAAAAAAAAAAAAAAAAAAAAAAAAAAAAAAAAAAAAAAAAAAAAAAAAAAAAAAAAAAAAAAAAAAAAAAAAAAAAAAAAAAAAAAAAAAAAAAAAAAAAAAAAAAAAAAAAAAAAAAAAAAAAAAAAAAAAAAAAAAAAAAAAAAAAAAAAAAAAAAAAAAAAAAAAAAAAAAAAAAAAAAAAAAAAAAAAAAAAAAAAAAAAAAAAAAAAAAAAAAAAAAAAAAAAAAAAAAAAAAAAAAAAAAAAAAAAAAAAAAAAAAAAAAAAAAAAAAAAAAAAAAAAAAAAAAAAAAAAAAAzHsr40nPiPWcZvgyjcfg9GytIfy0PDT6gjHFzKA8fPsxtoFyj6y0+a9OshuIROj6s+7vaVqZEPnZ0Yjqp900+6laqMecmVD4k9QaxkoxZPn/m+cZ4PF8+90B2PrvgYj66UNSNbf1mPiqq2DUPW2w+lPxaE8qScT6BCeqQB6J1Pj0+CGQyQXo+fvvSa25qfz79C0eSVKOCPsY22I+xG4Y+KG6BveJpij4SwtJ/H+6PPqKTtz3ohpM+YlPG++AKmD5Cfhk68omdPkf6h+sf76E+6SyWIkJcpT6vy7FJE9yoPrjgL24lSKw+jm7FcqmUrz6kPqYEkGuxPk25m1kIILM+hBsUdjMGtT7j3Gh5QDu3Pmf1v/2R1bk+4/kjzRrgvD5SO4CuhCrAPhIGpRZ1DMI+GUwifQv9wz5VW9Wg8NvFPmq4993CiMc+sLIwmkXsyD5MvTzXZv/JPqb7fAdIzMo+C0Bhnihoyz7IPpU5WOnLPtB0w3T3Xsw+NVFo1bjOzD45aKkmKjjNPgp0ppxdmc0+usl+yvXwzT6qG50vvDzOPmevdiLods4+6hdpOwqVzj6y1ydWZorOPgSG1YhuTc4+9bJG7cPdzT6HU5s6okbNPhsu4XqWmsw+LOSgjGfpyz5xXwy3tTXLPr169RgJcco+4OymM0aByT69Ox/qqEzIPscfhzD0xcY+R2fF2VbzxD7pMOke4+3CPsykuemn2sA+e/OHjJ/AvT5oz0Q7szm6PpKgWEiDPbc+kqTIyEbHtD4YU2JCiLiyPrf/6N3t57A+nwWPZzlhrj4IjMGsdPmqPqTSMlBlkKc+AShRyss4pD6R7kvoihChPlLuwCMxZZw+SvmT031glz7QuuVmSiKTPpoegUxmVY8+rsEiY4nWiT7H1TNCpYuFPtn0fzyYIII+ohB29B5/fj6HHKc3PlN5PpnqlLUKhHQ+M460ihEQcD6+f6VMlyFoPgTS3nJnRGE+ZB7yvchaVz5z/xxaSJhNPtxyoRn4aUE+/WGJQcDgMj6jwMAE0bgiPjEDPjcI5BA+l29sroqa+z0tHGEtFFzkPQ==\",\"dtype\":\"float64\",\"order\":\"little\",\"shape\":[200]}},\"selected\":{\"id\":\"3203\"},\"selection_policy\":{\"id\":\"3228\"}},\"id\":\"3202\",\"type\":\"ColumnDataSource\"},{\"attributes\":{},\"id\":\"3203\",\"type\":\"Selection\"},{\"attributes\":{\"children\":[{\"id\":\"3172\"}],\"height\":300,\"margin\":[0,0,0,0],\"name\":\"Row03528\",\"sizing_mode\":\"fixed\",\"tags\":[\"embedded\"],\"width\":700},\"id\":\"3168\",\"type\":\"Row\"},{\"attributes\":{\"fill_alpha\":0.2,\"fill_color\":\"#30a2da\",\"hatch_alpha\":0.2,\"hatch_color\":\"#30a2da\",\"line_alpha\":0.2,\"x\":{\"field\":\"x\"},\"y\":{\"field\":\"y\"}},\"id\":\"3207\",\"type\":\"Patch\"},{\"attributes\":{},\"id\":\"3190\",\"type\":\"PanTool\"},{\"attributes\":{},\"id\":\"3212\",\"type\":\"BasicTickFormatter\"},{\"attributes\":{\"axis_label\":\"Density\",\"coordinates\":null,\"formatter\":{\"id\":\"3215\"},\"group\":null,\"major_label_policy\":{\"id\":\"3216\"},\"ticker\":{\"id\":\"3186\"}},\"id\":\"3185\",\"type\":\"LinearAxis\"},{\"attributes\":{\"fill_alpha\":0.5,\"fill_color\":\"#30a2da\",\"hatch_color\":\"#30a2da\",\"x\":{\"field\":\"x\"},\"y\":{\"field\":\"y\"}},\"id\":\"3205\",\"type\":\"Patch\"},{\"attributes\":{\"axis\":{\"id\":\"3185\"},\"coordinates\":null,\"dimension\":1,\"grid_line_color\":null,\"group\":null,\"ticker\":null},\"id\":\"3188\",\"type\":\"Grid\"},{\"attributes\":{},\"id\":\"3186\",\"type\":\"BasicTicker\"},{\"attributes\":{},\"id\":\"3191\",\"type\":\"WheelZoomTool\"},{\"attributes\":{\"source\":{\"id\":\"3202\"}},\"id\":\"3209\",\"type\":\"CDSView\"},{\"attributes\":{\"coordinates\":null,\"data_source\":{\"id\":\"3202\"},\"glyph\":{\"id\":\"3205\"},\"group\":null,\"hover_glyph\":null,\"muted_glyph\":{\"id\":\"3207\"},\"nonselection_glyph\":{\"id\":\"3206\"},\"selection_glyph\":{\"id\":\"3210\"},\"view\":{\"id\":\"3209\"}},\"id\":\"3208\",\"type\":\"GlyphRenderer\"},{\"attributes\":{},\"id\":\"3189\",\"type\":\"SaveTool\"},{\"attributes\":{\"fill_alpha\":0.5,\"fill_color\":\"#30a2da\",\"hatch_color\":\"#30a2da\",\"x\":{\"field\":\"x\"},\"y\":{\"field\":\"y\"}},\"id\":\"3210\",\"type\":\"Patch\"},{\"attributes\":{\"overlay\":{\"id\":\"3194\"}},\"id\":\"3192\",\"type\":\"BoxZoomTool\"},{\"attributes\":{},\"id\":\"3193\",\"type\":\"ResetTool\"},{\"attributes\":{},\"id\":\"3215\",\"type\":\"BasicTickFormatter\"},{\"attributes\":{},\"id\":\"3213\",\"type\":\"AllLabels\"}],\"root_ids\":[\"3168\"]},\"title\":\"Bokeh Application\",\"version\":\"2.4.3\"}};\n",
       "    var render_items = [{\"docid\":\"eff80f18-6ee1-46b3-8e57-b94adcd368dc\",\"root_ids\":[\"3168\"],\"roots\":{\"3168\":\"5e2b481b-1d12-4693-a3c6-2145d7e32301\"}}];\n",
       "    root.Bokeh.embed.embed_items_notebook(docs_json, render_items);\n",
       "    for (const render_item of render_items) {\n",
       "      for (const root_id of render_item.root_ids) {\n",
       "\tconst id_el = document.getElementById(root_id)\n",
       "\tif (id_el.children.length && (id_el.children[0].className === 'bk-root')) {\n",
       "\t  const root_el = id_el.children[0]\n",
       "\t  root_el.id = root_el.id + '-rendered'\n",
       "\t}\n",
       "      }\n",
       "    }\n",
       "  }\n",
       "  if (root.Bokeh !== undefined && root.Bokeh.Panel !== undefined) {\n",
       "    embed_document(root);\n",
       "  } else {\n",
       "    var attempts = 0;\n",
       "    var timer = setInterval(function(root) {\n",
       "      if (root.Bokeh !== undefined && root.Bokeh.Panel !== undefined) {\n",
       "        clearInterval(timer);\n",
       "        embed_document(root);\n",
       "      } else if (document.readyState == \"complete\") {\n",
       "        attempts++;\n",
       "        if (attempts > 200) {\n",
       "          clearInterval(timer);\n",
       "          console.log(\"Bokeh: ERROR: Unable to run BokehJS code because BokehJS library is missing\");\n",
       "        }\n",
       "      }\n",
       "    }, 25, root)\n",
       "  }\n",
       "})(window);</script>"
      ],
      "text/plain": [
       ":Distribution   [Error Values]   (Density)"
      ]
     },
     "execution_count": 147,
     "metadata": {
      "application/vnd.holoviews_exec.v0+json": {
       "id": "3168"
      }
     },
     "output_type": "execute_result"
    }
   ],
   "source": [
    "pd.DataFrame({'Error Values': (y_test - test_pred)}).hvplot.kde()"
   ]
  },
  {
   "cell_type": "markdown",
   "id": "b182a516-b796-4b93-b3fd-28f51ba5baa3",
   "metadata": {},
   "source": [
    "# ✔️ LASSO Regression\n",
    "\n",
    "> A linear model that estimates sparse coefficients.\n",
    "\n",
    "> Mathematically, it consists of a linear model trained with $\\ell_1$ prior as regularizer. The objective function to minimize is:\n",
    "\n",
    "$$\\min_{w} \\big|\\big|t - Xw\\big|\\big|_2^2 + \\lambda_2 \\big|\\big|w\\big|\\big|_1$$\n",
    "\n",
    "> The lasso estimate thus solves the minimization of the least-squares penalty with $\\alpha \\big|\\big|w\\big|\\big|_1$ added, where $\\lambda_2$ is a constant and $\\big|\\big|w\\big|\\big|_1$ is the $L_1$-norm of the parameter vector.\n",
    "***"
   ]
  },
  {
   "cell_type": "code",
   "execution_count": 134,
   "id": "98347b03-f069-4d4f-a5bf-ca25f8bac391",
   "metadata": {},
   "outputs": [
    {
     "name": "stdout",
     "output_type": "stream",
     "text": [
      "Test set evaluation:\n",
      "_____________________________________\n",
      "MAE: 81135.6985172622\n",
      "MSE: 10068453390.364521\n",
      "RMSE: 100341.68321472648\n",
      "R2 Square 0.914681588551116\n",
      "__________________________________\n",
      "====================================\n",
      "Train set evaluation:\n",
      "_____________________________________\n",
      "MAE: 81480.63002185506\n",
      "MSE: 10287043196.634295\n",
      "RMSE: 101425.0619750084\n",
      "R2 Square 0.9192986576295505\n",
      "__________________________________\n"
     ]
    }
   ],
   "source": [
    "from sklearn.linear_model import Lasso\n",
    "\n",
    "model = Lasso(alpha=0.1, \n",
    "              precompute=True, \n",
    "#               warm_start=True, \n",
    "              positive=True, \n",
    "              selection='random',\n",
    "              random_state=42)\n",
    "model.fit(X_train, y_train)\n",
    "\n",
    "test_pred = model.predict(X_test)\n",
    "train_pred = model.predict(X_train)\n",
    "\n",
    "print('Test set evaluation:\\n_____________________________________')\n",
    "print_evaluate(y_test, test_pred)\n",
    "print('====================================')\n",
    "print('Train set evaluation:\\n_____________________________________')\n",
    "print_evaluate(y_train, train_pred)\n",
    "\n",
    "results_df_2 = pd.DataFrame(data=[[\"Lasso Regression\", *evaluate(y_test, test_pred) , cross_val(Lasso())]], \n",
    "                            columns=['Model', 'MAE', 'MSE', 'RMSE', 'R2 Square', \"Cross Validation\"])\n",
    "results_df = results_df.append(results_df_2, ignore_index=True)"
   ]
  },
  {
   "cell_type": "markdown",
   "id": "a8f3abe4-8369-4648-8dc0-d8a6adc65dea",
   "metadata": {},
   "source": [
    "# ✔️ Elastic Net\n",
    "\n",
    "> A linear regression model trained with $L_1$ and $L_2$ prior as regularizer. \n",
    "> This combination allows for learning a sparse model where few of the weights are non-zero like Lasso, while still maintaining the regularization properties of Ridge. \n",
    "> Elastic-net is useful when there are multiple features which are correlated with one another. Lasso is likely to pick one of these at random, while elastic-net is likely to pick both.\n",
    "> A practical advantage of trading-off between Lasso and Ridge is it allows Elastic-Net to inherit some of Ridge’s stability under rotation.\n",
    "> The objective function to minimize is in this case\n",
    "\n",
    "$$\\min_{w}{\\frac{1}{2n_{samples}} \\big|\\big|t - Xw\\big|\\big|_2 ^ 2 + \\alpha \\rho \\big|\\big|w\\big|\\big|_1 +\n",
    "\\frac{\\alpha(1-\\rho)}{2} \\big|\\big|w\\big|\\big|_2 ^ 2}$$\n",
    "***"
   ]
  },
  {
   "cell_type": "code",
   "execution_count": 135,
   "id": "47d5680e-245f-4d31-85f4-e8386a9edc34",
   "metadata": {},
   "outputs": [
    {
     "name": "stdout",
     "output_type": "stream",
     "text": [
      "Test set evaluation:\n",
      "_____________________________________\n",
      "MAE: 81184.43147330945\n",
      "MSE: 10078050168.470106\n",
      "RMSE: 100389.49232100991\n",
      "R2 Square 0.9146002670381437\n",
      "__________________________________\n",
      "====================================\n",
      "Train set evaluation:\n",
      "_____________________________________\n",
      "MAE: 81577.88831531754\n",
      "MSE: 10299274948.101461\n",
      "RMSE: 101485.34351373829\n",
      "R2 Square 0.9192027001474953\n",
      "__________________________________\n"
     ]
    }
   ],
   "source": [
    "from sklearn.linear_model import ElasticNet\n",
    "\n",
    "model = ElasticNet(alpha=0.1, l1_ratio=0.9, selection='random', random_state=42)\n",
    "model.fit(X_train, y_train)\n",
    "\n",
    "test_pred = model.predict(X_test)\n",
    "train_pred = model.predict(X_train)\n",
    "\n",
    "print('Test set evaluation:\\n_____________________________________')\n",
    "print_evaluate(y_test, test_pred)\n",
    "print('====================================')\n",
    "print('Train set evaluation:\\n_____________________________________')\n",
    "print_evaluate(y_train, train_pred)\n",
    "\n",
    "results_df_2 = pd.DataFrame(data=[[\"Elastic Net Regression\", *evaluate(y_test, test_pred) , cross_val(ElasticNet())]], \n",
    "                            columns=['Model', 'MAE', 'MSE', 'RMSE', 'R2 Square', \"Cross Validation\"])\n",
    "results_df = results_df.append(results_df_2, ignore_index=True)"
   ]
  },
  {
   "cell_type": "markdown",
   "id": "2f523b64-b0f8-4c09-b4bb-c2fcde7e7841",
   "metadata": {},
   "source": [
    "# ✔️ Polynomial Regression\n",
    "> Source: [scikit-learn](http://scikit-learn.org/stable/modules/linear_model.html#polynomial-regression-extending-linear-models-with-basis-functions)\n",
    "\n",
    "***\n",
    "\n",
    "> One common pattern within machine learning is to use linear models trained on nonlinear functions of the data. This approach maintains the generally fast performance of linear methods, while allowing them to fit a much wider range of data.\n",
    "\n",
    "> For example, a simple linear regression can be extended by constructing polynomial features from the coefficients. In the standard linear regression case, you might have a model that looks like this for two-dimensional data:\n",
    "\n",
    "$$\\hat{y}(w, x) = w_0 + w_1 x_1 + w_2 x_2$$\n",
    "\n",
    "> If we want to fit a paraboloid to the data instead of a plane, we can combine the features in second-order polynomials, so that the model looks like this:\n",
    "\n",
    "$$\\hat{y}(w, x) = w_0 + w_1 x_1 + w_2 x_2 + w_3 x_1 x_2 + w_4 x_1^2 + w_5 x_2^2$$\n",
    "\n",
    "> The (sometimes surprising) observation is that this is still a linear model: to see this, imagine creating a new variable\n",
    "\n",
    "$$z = [x_1, x_2, x_1 x_2, x_1^2, x_2^2] $$\n",
    "\n",
    "> With this re-labeling of the data, our problem can be written\n",
    "\n",
    "$$\\hat{y}(w, x) = w_0 + w_1 z_1 + w_2 z_2 + w_3 z_3 + w_4 z_4 + w_5 z_5$$\n",
    "\n",
    "> We see that the resulting polynomial regression is in the same class of linear models we had  considered above (i.e. the model is linear in w) and can be solved by the same techniques. By considering linear fits within a higher-dimensional space built with these basis functions, the model has the flexibility to fit a much broader range of data.\n",
    "***"
   ]
  },
  {
   "cell_type": "code",
   "execution_count": 136,
   "id": "a983f7bc-f8bc-44c7-8bdf-011eef6c635c",
   "metadata": {},
   "outputs": [
    {
     "name": "stdout",
     "output_type": "stream",
     "text": [
      "Test set evaluation:\n",
      "_____________________________________\n",
      "MAE: 81174.51844119698\n",
      "MSE: 10081983997.620699\n",
      "RMSE: 100409.08324260659\n",
      "R2 Square 0.9145669324195059\n",
      "__________________________________\n",
      "====================================\n",
      "Train set evaluation:\n",
      "_____________________________________\n",
      "MAE: 81363.0618562117\n",
      "MSE: 10266487151.007814\n",
      "RMSE: 101323.67517519198\n",
      "R2 Square 0.9194599187853729\n",
      "__________________________________\n"
     ]
    }
   ],
   "source": [
    "from sklearn.preprocessing import PolynomialFeatures\n",
    "\n",
    "poly_reg = PolynomialFeatures(degree=2)\n",
    "\n",
    "X_train_2_d = poly_reg.fit_transform(X_train)\n",
    "X_test_2_d = poly_reg.transform(X_test)\n",
    "\n",
    "lin_reg = LinearRegression(normalize=True)\n",
    "lin_reg.fit(X_train_2_d,y_train)\n",
    "\n",
    "test_pred = lin_reg.predict(X_test_2_d)\n",
    "train_pred = lin_reg.predict(X_train_2_d)\n",
    "\n",
    "print('Test set evaluation:\\n_____________________________________')\n",
    "print_evaluate(y_test, test_pred)\n",
    "print('====================================')\n",
    "print('Train set evaluation:\\n_____________________________________')\n",
    "print_evaluate(y_train, train_pred)\n",
    "\n",
    "results_df_2 = pd.DataFrame(data=[[\"Polynomail Regression\", *evaluate(y_test, test_pred), 0]], \n",
    "                            columns=['Model', 'MAE', 'MSE', 'RMSE', 'R2 Square', 'Cross Validation'])\n",
    "results_df = results_df.append(results_df_2, ignore_index=True)"
   ]
  },
  {
   "cell_type": "markdown",
   "id": "18ec2155-96b6-4ba2-9995-2546e6304626",
   "metadata": {},
   "source": [
    "# Models Comparison"
   ]
  },
  {
   "cell_type": "code",
   "execution_count": 137,
   "id": "ea01b667-3711-403d-9175-606c9f5a5a22",
   "metadata": {},
   "outputs": [
    {
     "data": {
      "text/html": [
       "<div>\n",
       "<style scoped>\n",
       "    .dataframe tbody tr th:only-of-type {\n",
       "        vertical-align: middle;\n",
       "    }\n",
       "\n",
       "    .dataframe tbody tr th {\n",
       "        vertical-align: top;\n",
       "    }\n",
       "\n",
       "    .dataframe thead th {\n",
       "        text-align: right;\n",
       "    }\n",
       "</style>\n",
       "<table border=\"1\" class=\"dataframe\">\n",
       "  <thead>\n",
       "    <tr style=\"text-align: right;\">\n",
       "      <th></th>\n",
       "      <th>Model</th>\n",
       "      <th>MAE</th>\n",
       "      <th>MSE</th>\n",
       "      <th>RMSE</th>\n",
       "      <th>R2 Square</th>\n",
       "      <th>Cross Validation</th>\n",
       "    </tr>\n",
       "  </thead>\n",
       "  <tbody>\n",
       "    <tr>\n",
       "      <th>0</th>\n",
       "      <td>Linear Regression</td>\n",
       "      <td>81135.566093</td>\n",
       "      <td>1.006842e+10</td>\n",
       "      <td>100341.529545</td>\n",
       "      <td>0.914682</td>\n",
       "      <td>0.917379</td>\n",
       "    </tr>\n",
       "    <tr>\n",
       "      <th>1</th>\n",
       "      <td>Ridge Regression</td>\n",
       "      <td>81428.648355</td>\n",
       "      <td>1.015327e+10</td>\n",
       "      <td>100763.435337</td>\n",
       "      <td>0.913963</td>\n",
       "      <td>0.917379</td>\n",
       "    </tr>\n",
       "    <tr>\n",
       "      <th>2</th>\n",
       "      <td>Lasso Regression</td>\n",
       "      <td>81135.698517</td>\n",
       "      <td>1.006845e+10</td>\n",
       "      <td>100341.683215</td>\n",
       "      <td>0.914682</td>\n",
       "      <td>0.917379</td>\n",
       "    </tr>\n",
       "    <tr>\n",
       "      <th>3</th>\n",
       "      <td>Elastic Net Regression</td>\n",
       "      <td>81184.431473</td>\n",
       "      <td>1.007805e+10</td>\n",
       "      <td>100389.492321</td>\n",
       "      <td>0.914600</td>\n",
       "      <td>0.879545</td>\n",
       "    </tr>\n",
       "    <tr>\n",
       "      <th>4</th>\n",
       "      <td>Polynomail Regression</td>\n",
       "      <td>81174.518441</td>\n",
       "      <td>1.008198e+10</td>\n",
       "      <td>100409.083243</td>\n",
       "      <td>0.914567</td>\n",
       "      <td>0.000000</td>\n",
       "    </tr>\n",
       "  </tbody>\n",
       "</table>\n",
       "</div>"
      ],
      "text/plain": [
       "                    Model           MAE           MSE           RMSE  \\\n",
       "0       Linear Regression  81135.566093  1.006842e+10  100341.529545   \n",
       "1        Ridge Regression  81428.648355  1.015327e+10  100763.435337   \n",
       "2        Lasso Regression  81135.698517  1.006845e+10  100341.683215   \n",
       "3  Elastic Net Regression  81184.431473  1.007805e+10  100389.492321   \n",
       "4   Polynomail Regression  81174.518441  1.008198e+10  100409.083243   \n",
       "\n",
       "   R2 Square  Cross Validation  \n",
       "0   0.914682          0.917379  \n",
       "1   0.913963          0.917379  \n",
       "2   0.914682          0.917379  \n",
       "3   0.914600          0.879545  \n",
       "4   0.914567          0.000000  "
      ]
     },
     "execution_count": 137,
     "metadata": {},
     "output_type": "execute_result"
    }
   ],
   "source": [
    "results_df"
   ]
  },
  {
   "cell_type": "code",
   "execution_count": 138,
   "id": "07b06ee3-0ce8-4aa0-96db-79c567d11ed2",
   "metadata": {},
   "outputs": [
    {
     "data": {
      "text/plain": [
       "<AxesSubplot:ylabel='Model'>"
      ]
     },
     "execution_count": 138,
     "metadata": {},
     "output_type": "execute_result"
    },
    {
     "data": {
      "image/png": "[encoded data removed]",
      "text/plain": [
       "<Figure size 864x576 with 1 Axes>"
      ]
     },
     "metadata": {
      "needs_background": "light"
     },
     "output_type": "display_data"
    }
   ],
   "source": [
    "results_df.set_index('Model', inplace=True)\n",
    "results_df['R2 Square'].plot(kind='barh', figsize=(12, 8))"
   ]
  },
  {
   "cell_type": "code",
   "execution_count": null,
   "id": "edf3d03d-115e-4b87-b39d-b6456dd9f919",
   "metadata": {},
   "outputs": [],
   "source": []
  }
 ],
 "metadata": {
  "kernelspec": {
   "display_name": "Python 3 (ipykernel)",
   "language": "python",
   "name": "python3"
  },
  "language_info": {
   "codemirror_mode": {
    "name": "ipython",
    "version": 3
   },
   "file_extension": ".py",
   "mimetype": "text/x-python",
   "name": "python",
   "nbconvert_exporter": "python",
   "pygments_lexer": "ipython3",
   "version": "3.9.12"
  }
 },
 "nbformat": 4,
 "nbformat_minor": 5
}
